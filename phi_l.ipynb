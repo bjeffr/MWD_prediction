{
 "cells": [
  {
   "cell_type": "code",
   "execution_count": null,
   "metadata": {
    "pycharm": {
     "name": "#%%\n"
    }
   },
   "outputs": [],
   "source": [
    "import pandas as pd\n",
    "import numpy as np\n",
    "import torch\n",
    "import random\n",
    "import matplotlib as mpl\n",
    "from utils.neural_nets import NN_Module_2C\n",
    "from sklearn.pipeline import Pipeline\n",
    "from sklearn.model_selection import train_test_split\n",
    "from sklearn.preprocessing import MinMaxScaler\n",
    "from sklearn.compose import TransformedTargetRegressor\n",
    "from skorch import NeuralNetRegressor\n",
    "from tqdm import tqdm\n",
    "from utils.metrics import mean_absolute_errors, mean_relative_errors\n",
    "from utils.params import tab_dir\n",
    "\n",
    "%config InlineBackend.figure_format ='retina'\n",
    "mpl.style.use(\"ggplot\")\n",
    "torch.manual_seed(42)\n",
    "torch.cuda.manual_seed(42)\n",
    "random.seed(42)\n",
    "np.random.seed(42)"
   ]
  },
  {
   "cell_type": "code",
   "execution_count": null,
   "outputs": [],
   "source": [
    "df = pd.read_csv(\"data/flow_data_2c_1.csv\").astype(np.float32)\n",
    "df.shape"
   ],
   "metadata": {
    "collapsed": false,
    "pycharm": {
     "name": "#%%\n"
    }
   }
  },
  {
   "cell_type": "code",
   "execution_count": null,
   "outputs": [],
   "source": [
    "for i, threshold in enumerate(tqdm([0, 0.05, 0.1, 0.15, 0.2, 0.25])):\n",
    "    indices = []\n",
    "    for j, row in df.iterrows():\n",
    "        if threshold <= row[\"phi_L\"] <= (1 - threshold):\n",
    "            indices.append(j)\n",
    "\n",
    "    sample = df.loc[indices].sample(200_000, random_state=42)\n",
    "    X_train, X_test, Y_train, Y_test = train_test_split(\n",
    "        sample.iloc[:, -140:],\n",
    "        sample.iloc[:, :5],\n",
    "        test_size=0.1,\n",
    "        random_state=42,\n",
    "    )\n",
    "    np.save(f\"logs/phi_l/Y_test_{i}\", Y_test, allow_pickle=False)\n",
    "\n",
    "    net = NeuralNetRegressor(\n",
    "        module=NN_Module_2C,\n",
    "        module__num_targets=5,\n",
    "        criterion=torch.nn.MSELoss,\n",
    "        optimizer=torch.optim.AdamW,\n",
    "        lr=2e-05,\n",
    "        max_epochs=100,\n",
    "        verbose=0,\n",
    "        device=\"cuda\" if torch.cuda.is_available() else \"cpu\",\n",
    "    )\n",
    "    tt = TransformedTargetRegressor(regressor=net, transformer=MinMaxScaler())\n",
    "    pipe = Pipeline(\n",
    "        [\n",
    "            (\"scale\", MinMaxScaler()),\n",
    "            (\"tt\", tt),\n",
    "        ]\n",
    "    )\n",
    "\n",
    "    pipe.fit(X_train, Y_train)\n",
    "\n",
    "    Y_pred = pipe.predict(X_test)\n",
    "    np.save(f\"logs/phi_l/Y_pred_{i}\", Y_pred, allow_pickle=False)"
   ],
   "metadata": {
    "collapsed": false,
    "pycharm": {
     "name": "#%%\n"
    }
   }
  },
  {
   "cell_type": "code",
   "execution_count": null,
   "outputs": [],
   "source": [
    "errors = []\n",
    "for i in range(6):\n",
    "    Y_test = np.load(f\"logs/phi_l/Y_test_{i}.npy\", allow_pickle=False)\n",
    "    Y_pred = np.load(f\"logs/phi_l/Y_pred_{i}.npy\", allow_pickle=False)\n",
    "\n",
    "    errs = mean_relative_errors(Y_test, Y_pred)\n",
    "    errs.append(np.mean(mean_relative_errors(Y_test, Y_pred)))\n",
    "    errs.append(mean_absolute_errors(Y_test, Y_pred)[4])\n",
    "\n",
    "    errors.append(errs)\n",
    "\n",
    "errors = np.array([errors[i] for i in [0, 3, 1, 4, 2, 5]])"
   ],
   "metadata": {
    "collapsed": false,
    "pycharm": {
     "name": "#%%\n"
    }
   }
  },
  {
   "cell_type": "code",
   "execution_count": null,
   "outputs": [],
   "source": [
    "df_errors = pd.DataFrame(errors)\n",
    "df_errors = df_errors.astype(str)\n",
    "\n",
    "for index, row in df_errors.iterrows():\n",
    "    for j in df_errors.columns:\n",
    "        if j < 5:\n",
    "            if errors[index, j] == errors[:, j].min():\n",
    "                df_errors.at[index, j] = (\n",
    "                    \"\\green{\" + f\"{float(row[j])*100:.2f}\\%\" + \"}\"\n",
    "                )\n",
    "            else:\n",
    "                df_errors.at[index, j] = f\"{float(row[j])*100:.2f}\\%\"\n",
    "        else:\n",
    "            if errors[index, j] == errors[:, j].min():\n",
    "                df_errors.at[index, j] = (\n",
    "                    \"\\green{\" + f\"{float(row[j]):.3f}\" + \"}\"\n",
    "                )\n",
    "            else:\n",
    "                df_errors.at[index, j] = f\"{float(row[j]):.3f}\"\n",
    "\n",
    "df_errors.index = [\n",
    "    \"$\\phi^l \\in$ [0, 1]\",\n",
    "    \"$\\phi^l \\in$ [0.05, 0.95]\",\n",
    "    \"$\\phi^l \\in$ [0.1, 0.9]\",\n",
    "    \"$\\phi^l \\in$ [0.15, 0.85]\",\n",
    "    \"$\\phi^l \\in$ [0.2, 0.8]\",\n",
    "    \"$\\phi^l \\in$ [0.25, 0.75]\",\n",
    "]\n",
    "\n",
    "df_errors.to_latex(\n",
    "    buf=tab_dir + \"/phi_l_errors.tex\",\n",
    "    header=[\n",
    "        r\"MRE ($M_w^s$)\",\n",
    "        \"MRE ($PDI^s$)\",\n",
    "        \"MRE ($M_w^l$)\",\n",
    "        \"MRE ($PDI^l$)\",\n",
    "        \"Avg. MRE\",\n",
    "        \"MAE ($\\phi^l$)\",\n",
    "    ],\n",
    "    column_format=\"lrrrrrr\",\n",
    "    index=True,\n",
    "    escape=False,\n",
    "    caption=r\"Mean relative error (MRE) and the averaged MRE of the $M_w^s$, $PDI^s$, $M_w^l$ and $PDI^l$ target attributes, as well as the mean absolute error (MAE) of $\\phi^l$ using various ranges of valid $\\phi^l$ values (180,000 training and 20,000 testing instances, $\\frac{M_w^l}{M_w^s}>PDI_{max}^{1}$ bimodal dataset)\",\n",
    "    label=\"tab:phi_l_errors\",\n",
    "    position=\"htb\",\n",
    ")"
   ],
   "metadata": {
    "collapsed": false,
    "pycharm": {
     "name": "#%%\n"
    }
   }
  }
 ],
 "metadata": {
  "kernelspec": {
   "display_name": "Python 3",
   "language": "python",
   "name": "python3"
  },
  "language_info": {
   "codemirror_mode": {
    "name": "ipython",
    "version": 3
   },
   "file_extension": ".py",
   "mimetype": "text/x-python",
   "name": "python",
   "nbconvert_exporter": "python",
   "pygments_lexer": "ipython3",
   "version": "3.8.5"
  }
 },
 "nbformat": 4,
 "nbformat_minor": 1
}