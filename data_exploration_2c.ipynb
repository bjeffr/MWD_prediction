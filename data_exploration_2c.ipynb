{
 "cells": [
  {
   "cell_type": "code",
   "execution_count": null,
   "metadata": {
    "collapsed": true
   },
   "outputs": [],
   "source": [
    "import pandas as pd\n",
    "import matplotlib as mpl\n",
    "import matplotlib.pyplot as plt\n",
    "from utils.params import tab_dir, fig_dir, label_color\n",
    "from utils.tables import summary_stats_targets_2c, summary_stats_features_2c\n",
    "from utils.charts import (\n",
    "    dual_hist_box_plot,\n",
    "    feature_attrs_iqr_plot,\n",
    "    dual_log_boxplot,\n",
    "    corr_plot,\n",
    "    datapoints_scatter,\n",
    ")\n",
    "%config InlineBackend.figure_format ='retina'\n",
    "mpl.style.use(\"ggplot\")"
   ]
  },
  {
   "cell_type": "code",
   "execution_count": null,
   "outputs": [],
   "source": [
    "df = pd.read_csv(\"data/flow_data_2c_None.csv\")\n",
    "df.shape"
   ],
   "metadata": {
    "collapsed": false,
    "pycharm": {
     "name": "#%%\n"
    }
   }
  },
  {
   "cell_type": "code",
   "execution_count": null,
   "outputs": [],
   "source": [
    "targets = df.iloc[:, :5]\n",
    "storage_modulus = df.iloc[:, 5:75]\n",
    "loss_modulus = df.iloc[:, 75:145]\n",
    "features = pd.DataFrame(\n",
    "    {\n",
    "        \"G'\": storage_modulus.values.flatten(),\n",
    "        \"G''\": loss_modulus.values.flatten(),\n",
    "    }\n",
    ")\n",
    "\n",
    "summary_stats_targets_2c(targets).to_latex(\n",
    "    buf=tab_dir + \"/describe_targets_2c_None.tex\",\n",
    "    header=[\n",
    "        r\"$M_w^s$ [$\\nicefrac{g}{mol}$]\",\n",
    "        \"$PDI^s$\",\n",
    "        r\"$M_w^l$ [$\\nicefrac{g}{mol}$]\",\n",
    "        \"$PDI^l$\",\n",
    "        \"$\\phi^l$\",\n",
    "    ],\n",
    "    column_format=\"lrrrrr\",\n",
    "    index=True,\n",
    "    escape=False,\n",
    "    bold_rows=True,\n",
    "    caption=\"Summary statistics for the $M_w^s$, $PDI^s$, $M_w^l$, $PDI^l$, and $\\phi^l$ target attributes (no restrictions bimodal dataset)\",\n",
    "    label=\"tab:describe_targets_2c_None\",\n",
    "    position=\"htb\",\n",
    ")\n",
    "\n",
    "summary_stats_features_2c(features).to_latex(\n",
    "    buf=tab_dir + \"/describe_features_2c_None.tex\",\n",
    "    header=[\"$G'$ [Pa]\", \"$G''$ [Pa]\"],\n",
    "    column_format=\"lrr\",\n",
    "    index=True,\n",
    "    escape=False,\n",
    "    bold_rows=True,\n",
    "    caption=r\"Summary statistics for the $G'$ and $G''$ features (no restrictions bimodal dataset)\",\n",
    "    label=\"tab:describe_features_2c_None\",\n",
    "    position=\"htb\",\n",
    ")"
   ],
   "metadata": {
    "collapsed": false,
    "pycharm": {
     "name": "#%%\n"
    }
   }
  },
  {
   "cell_type": "code",
   "execution_count": null,
   "outputs": [],
   "source": [
    "dual_hist_box_plot(\n",
    "    df[\"M_W_S\"], df[\"M_W_L\"], \"$M_w^s$ [$g/mol$]\", \"$M_w^l$ [$g/mol$]\"\n",
    ")\n",
    "plt.savefig(\n",
    "    fig_dir + \"/box_hist_2c_None_mw.png\",\n",
    "    dpi=300,\n",
    "    bbox_inches=\"tight\",\n",
    "    pad_inches=0,\n",
    ")"
   ],
   "metadata": {
    "collapsed": false,
    "pycharm": {
     "name": "#%%\n"
    }
   }
  },
  {
   "cell_type": "code",
   "execution_count": null,
   "outputs": [],
   "source": [
    "dual_hist_box_plot(df[\"PDI_S\"], df[\"PDI_L\"], \"$PDI^s$\", \"$PDI^l$\")\n",
    "plt.savefig(\n",
    "    fig_dir + \"/box_hist_2c_None_pdi.png\",\n",
    "    dpi=300,\n",
    "    bbox_inches=\"tight\",\n",
    "    pad_inches=0,\n",
    ")"
   ],
   "metadata": {
    "collapsed": false,
    "pycharm": {
     "name": "#%%\n"
    }
   }
  },
  {
   "cell_type": "code",
   "execution_count": null,
   "outputs": [],
   "source": [
    "dual_hist_box_plot(df[\"phi_L\"], None, \"$\\phi^l$\", None)\n",
    "plt.savefig(\n",
    "    fig_dir + \"/box_hist_2c_None_phi.png\",\n",
    "    dpi=300,\n",
    "    bbox_inches=\"tight\",\n",
    "    pad_inches=0,\n",
    ")"
   ],
   "metadata": {
    "collapsed": false,
    "pycharm": {
     "name": "#%%\n"
    }
   }
  },
  {
   "cell_type": "code",
   "execution_count": null,
   "outputs": [],
   "source": [
    "storage_modulus = df.iloc[:, 5:75]\n",
    "loss_modulus = df.iloc[:, 75:145]\n",
    "\n",
    "feature_attrs_iqr_plot(storage_modulus, loss_modulus)\n",
    "plt.savefig(\n",
    "    fig_dir + \"/feature_attrs_iqr_2c_None.png\",\n",
    "    dpi=300,\n",
    "    bbox_inches=\"tight\",\n",
    "    pad_inches=0,\n",
    ")"
   ],
   "metadata": {
    "collapsed": false,
    "pycharm": {
     "name": "#%%\n"
    }
   }
  },
  {
   "cell_type": "code",
   "execution_count": null,
   "outputs": [],
   "source": [
    "dual_log_boxplot(\n",
    "    df.iloc[:, 5],\n",
    "    df.iloc[:, 75],\n",
    "    df.iloc[:, 62],\n",
    "    df.iloc[:, 132],\n",
    "    [-10, -8, -6, -4, -2, 0, 2, 4],\n",
    "    [5.2, 5.3, 5.4, 5.5, 5.6],\n",
    "    \"Frequency = $10^{-6}$ $s^{-1}$\",\n",
    "    r\"Frequency $\\approx 10^{4}$ $s^{-1}$\",\n",
    ")\n",
    "plt.savefig(\n",
    "    fig_dir + \"/boxplot_freq_2c_None.png\",\n",
    "    dpi=300,\n",
    "    bbox_inches=\"tight\",\n",
    "    pad_inches=0,\n",
    ")"
   ],
   "metadata": {
    "collapsed": false,
    "pycharm": {
     "name": "#%%\n"
    }
   }
  },
  {
   "cell_type": "code",
   "execution_count": null,
   "outputs": [],
   "source": [
    "corr_plot(df.iloc[:, 5:].corr())\n",
    "plt.savefig(\n",
    "    fig_dir + \"/corr_2c_None.png\", dpi=300, bbox_inches=\"tight\", pad_inches=0\n",
    ")"
   ],
   "metadata": {
    "collapsed": false,
    "pycharm": {
     "name": "#%%\n"
    }
   }
  },
  {
   "cell_type": "code",
   "execution_count": null,
   "outputs": [],
   "source": [
    "fig, ax = plt.subplots()\n",
    "fig.set_figheight(5)\n",
    "fig.set_figwidth(7.5)\n",
    "datapoints_scatter(df.sample(20000))\n",
    "plt.title(\"No restrictions\", color=label_color, size=12)\n",
    "plt.savefig(\n",
    "    fig_dir + \"/datapoints_scatter_2c_None.png\",\n",
    "    dpi=300,\n",
    "    bbox_inches=\"tight\",\n",
    "    pad_inches=0,\n",
    ")"
   ],
   "metadata": {
    "collapsed": false,
    "pycharm": {
     "name": "#%%\n"
    }
   }
  },
  {
   "cell_type": "code",
   "execution_count": null,
   "outputs": [],
   "source": [
    "df = pd.read_csv(\"data/flow_data_2c_1.csv\").sample(200_000)\n",
    "df.shape"
   ],
   "metadata": {
    "collapsed": false,
    "pycharm": {
     "name": "#%%\n"
    }
   }
  },
  {
   "cell_type": "code",
   "execution_count": null,
   "outputs": [],
   "source": [
    "targets = df.iloc[:, :5]\n",
    "storage_modulus = df.iloc[:, 5:75]\n",
    "loss_modulus = df.iloc[:, 75:145]\n",
    "features = pd.DataFrame(\n",
    "    {\n",
    "        \"G'\": storage_modulus.values.flatten(),\n",
    "        \"G''\": loss_modulus.values.flatten(),\n",
    "    }\n",
    ")\n",
    "\n",
    "summary_stats_targets_2c(targets).to_latex(\n",
    "    buf=tab_dir + \"/describe_targets_2c_1.tex\",\n",
    "    header=[\n",
    "        r\"$M_w^s$ [$\\nicefrac{g}{mol}$]\",\n",
    "        \"$PDI^s$\",\n",
    "        r\"$M_w^l$ [$\\nicefrac{g}{mol}$]\",\n",
    "        \"$PDI^l$\",\n",
    "        \"$\\phi^l$\",\n",
    "    ],\n",
    "    column_format=\"lrrrrr\",\n",
    "    index=True,\n",
    "    escape=False,\n",
    "    bold_rows=True,\n",
    "    caption=r\"Summary statistics for the $M_w^s$, $PDI^s$, $M_w^l$, $PDI^l$, and $\\phi^l$ target attributes ($\\frac{M_w^l}{M_w^s}>PDI_{max}^{1}$ bimodal dataset)\",\n",
    "    label=\"tab:describe_targets_2c_1\",\n",
    "    position=\"htb\",\n",
    ")\n",
    "\n",
    "summary_stats_features_2c(features).to_latex(\n",
    "    buf=tab_dir + \"/describe_features_2c_1.tex\",\n",
    "    header=[\"$G'$ [Pa]\", \"$G''$ [Pa]\"],\n",
    "    column_format=\"lrr\",\n",
    "    index=True,\n",
    "    escape=False,\n",
    "    bold_rows=True,\n",
    "    caption=r\"Summary statistics for the $G'$ and $G''$ features ($\\frac{M_w^l}{M_w^s}>PDI_{max}^{1}$ bimodal dataset)\",\n",
    "    label=\"tab:describe_features_2c_1\",\n",
    "    position=\"htb\",\n",
    ")"
   ],
   "metadata": {
    "collapsed": false,
    "pycharm": {
     "name": "#%%\n"
    }
   }
  },
  {
   "cell_type": "code",
   "execution_count": null,
   "outputs": [],
   "source": [
    "dual_hist_box_plot(\n",
    "    df[\"M_W_S\"], df[\"M_W_L\"], \"$M_w^s$ [$g/mol$]\", \"$M_w^l$ [$g/mol$]\"\n",
    ")\n",
    "plt.savefig(\n",
    "    fig_dir + \"/box_hist_2c_1_mw.png\",\n",
    "    dpi=300,\n",
    "    bbox_inches=\"tight\",\n",
    "    pad_inches=0,\n",
    ")"
   ],
   "metadata": {
    "collapsed": false,
    "pycharm": {
     "name": "#%%\n"
    }
   }
  },
  {
   "cell_type": "code",
   "execution_count": null,
   "outputs": [],
   "source": [
    "dual_hist_box_plot(df[\"PDI_S\"], df[\"PDI_L\"], \"$PDI^s$\", \"$PDI^l$\")\n",
    "plt.savefig(\n",
    "    fig_dir + \"/box_hist_2c_1_pdi.png\",\n",
    "    dpi=300,\n",
    "    bbox_inches=\"tight\",\n",
    "    pad_inches=0,\n",
    ")"
   ],
   "metadata": {
    "collapsed": false,
    "pycharm": {
     "name": "#%%\n"
    }
   }
  },
  {
   "cell_type": "code",
   "execution_count": null,
   "outputs": [],
   "source": [
    "dual_hist_box_plot(df[\"phi_L\"], None, \"$\\phi^l$\", None)\n",
    "plt.savefig(\n",
    "    fig_dir + \"/box_hist_2c_1_phi.png\",\n",
    "    dpi=300,\n",
    "    bbox_inches=\"tight\",\n",
    "    pad_inches=0,\n",
    ")"
   ],
   "metadata": {
    "collapsed": false,
    "pycharm": {
     "name": "#%%\n"
    }
   }
  },
  {
   "cell_type": "code",
   "execution_count": null,
   "outputs": [],
   "source": [
    "storage_modulus = df.iloc[:, 5:75]\n",
    "loss_modulus = df.iloc[:, 75:145]\n",
    "\n",
    "feature_attrs_iqr_plot(storage_modulus, loss_modulus)\n",
    "plt.savefig(\n",
    "    fig_dir + \"/feature_attrs_iqr_2c_1.png\",\n",
    "    dpi=300,\n",
    "    bbox_inches=\"tight\",\n",
    "    pad_inches=0,\n",
    ")"
   ],
   "metadata": {
    "collapsed": false,
    "pycharm": {
     "name": "#%%\n"
    }
   }
  },
  {
   "cell_type": "code",
   "execution_count": null,
   "outputs": [],
   "source": [
    "dual_log_boxplot(\n",
    "    df.iloc[:, 5],\n",
    "    df.iloc[:, 75],\n",
    "    df.iloc[:, 62],\n",
    "    df.iloc[:, 132],\n",
    "    [-12, -10, -8, -6, -4, -2, 0, 2, 4],\n",
    "    [5.1, 5.2, 5.3, 5.4, 5.5, 5.6],\n",
    "    \"Frequency = $10^{-6}$ $s^{-1}$\",\n",
    "    r\"Frequency $\\approx 10^{4}$ $s^{-1}$\",\n",
    ")\n",
    "plt.savefig(\n",
    "    fig_dir + \"/boxplot_freq_2c_1.png\",\n",
    "    dpi=300,\n",
    "    bbox_inches=\"tight\",\n",
    "    pad_inches=0,\n",
    ")"
   ],
   "metadata": {
    "collapsed": false,
    "pycharm": {
     "name": "#%%\n"
    }
   }
  },
  {
   "cell_type": "code",
   "execution_count": null,
   "outputs": [],
   "source": [
    "corr_plot(df.iloc[:, 5:].corr())\n",
    "plt.savefig(\n",
    "    fig_dir + \"/corr_2c_1.png\", dpi=300, bbox_inches=\"tight\", pad_inches=0\n",
    ")"
   ],
   "metadata": {
    "collapsed": false,
    "pycharm": {
     "name": "#%%\n"
    }
   }
  },
  {
   "cell_type": "code",
   "execution_count": null,
   "outputs": [],
   "source": [
    "fig, ax = plt.subplots()\n",
    "fig.set_figheight(5)\n",
    "fig.set_figwidth(7.5)\n",
    "datapoints_scatter(df.sample(20000))\n",
    "plt.title(r\"$\\frac{M_w^l}{M_w^s}>PDI_{max}^{1}$\", color=label_color, size=12)\n",
    "plt.savefig(\n",
    "    fig_dir + \"/datapoints_scatter_2c_1.png\",\n",
    "    dpi=300,\n",
    "    bbox_inches=\"tight\",\n",
    "    pad_inches=0,\n",
    ")"
   ],
   "metadata": {
    "collapsed": false,
    "pycharm": {
     "name": "#%%\n"
    }
   }
  },
  {
   "cell_type": "code",
   "execution_count": null,
   "outputs": [],
   "source": [
    "df = pd.read_csv(\"data/flow_data_2c_1.5.csv\")\n",
    "df.shape"
   ],
   "metadata": {
    "collapsed": false,
    "pycharm": {
     "name": "#%%\n"
    }
   }
  },
  {
   "cell_type": "code",
   "execution_count": null,
   "outputs": [],
   "source": [
    "targets = df.iloc[:, :5]\n",
    "storage_modulus = df.iloc[:, 5:75]\n",
    "loss_modulus = df.iloc[:, 75:145]\n",
    "features = pd.DataFrame(\n",
    "    {\n",
    "        \"G'\": storage_modulus.values.flatten(),\n",
    "        \"G''\": loss_modulus.values.flatten(),\n",
    "    }\n",
    ")\n",
    "\n",
    "summary_stats_targets_2c(targets).to_latex(\n",
    "    buf=tab_dir + \"/describe_targets_2c_1_5.tex\",\n",
    "    header=[\n",
    "        r\"$M_w^s$ [$\\nicefrac{g}{mol}$]\",\n",
    "        \"$PDI^s$\",\n",
    "        r\"$M_w^l$ [$\\nicefrac{g}{mol}$]\",\n",
    "        \"$PDI^l$\",\n",
    "        \"$\\phi^l$\",\n",
    "    ],\n",
    "    column_format=\"lrrrrr\",\n",
    "    index=True,\n",
    "    escape=False,\n",
    "    bold_rows=True,\n",
    "    caption=r\"Summary statistics for the $M_w^s$, $PDI^s$, $M_w^l$, $PDI^l$, and $\\phi^l$ target attributes ($\\frac{M_w^l}{M_w^s}>PDI_{max}^{1.5}$ bimodal dataset)\",\n",
    "    label=\"tab:describe_targets_2c_1_5\",\n",
    "    position=\"htb\",\n",
    ")\n",
    "\n",
    "summary_stats_features_2c(features).to_latex(\n",
    "    buf=tab_dir + \"/describe_features_2c_1_5.tex\",\n",
    "    header=[\"$G'$ [Pa]\", \"$G''$ [Pa]\"],\n",
    "    column_format=\"lrr\",\n",
    "    index=True,\n",
    "    escape=False,\n",
    "    bold_rows=True,\n",
    "    caption=r\"Summary statistics for the $G'$ and $G''$ features ($\\frac{M_w^l}{M_w^s}>PDI_{max}^{1.5}$ bimodal dataset)\",\n",
    "    label=\"tab:describe_features_2c_1_5\",\n",
    "    position=\"htb\",\n",
    ")"
   ],
   "metadata": {
    "collapsed": false,
    "pycharm": {
     "name": "#%%\n"
    }
   }
  },
  {
   "cell_type": "code",
   "execution_count": null,
   "outputs": [],
   "source": [
    "dual_hist_box_plot(\n",
    "    df[\"M_W_S\"], df[\"M_W_L\"], \"$M_w^s$ [$g/mol$]\", \"$M_w^l$ [$g/mol$]\"\n",
    ")\n",
    "plt.savefig(\n",
    "    fig_dir + \"/box_hist_2c_1_5_mw.png\",\n",
    "    dpi=300,\n",
    "    bbox_inches=\"tight\",\n",
    "    pad_inches=0,\n",
    ")"
   ],
   "metadata": {
    "collapsed": false,
    "pycharm": {
     "name": "#%%\n"
    }
   }
  },
  {
   "cell_type": "code",
   "execution_count": null,
   "outputs": [],
   "source": [
    "dual_hist_box_plot(df[\"PDI_S\"], df[\"PDI_L\"], \"$PDI^s$\", \"$PDI^l$\")\n",
    "plt.savefig(\n",
    "    fig_dir + \"/box_hist_2c_1_5_pdi.png\",\n",
    "    dpi=300,\n",
    "    bbox_inches=\"tight\",\n",
    "    pad_inches=0,\n",
    ")"
   ],
   "metadata": {
    "collapsed": false,
    "pycharm": {
     "name": "#%%\n"
    }
   }
  },
  {
   "cell_type": "code",
   "execution_count": null,
   "outputs": [],
   "source": [
    "dual_hist_box_plot(df[\"phi_L\"], None, \"$\\phi^l$\", None)\n",
    "plt.savefig(\n",
    "    fig_dir + \"/box_hist_2c_1_5_phi.png\",\n",
    "    dpi=300,\n",
    "    bbox_inches=\"tight\",\n",
    "    pad_inches=0,\n",
    ")"
   ],
   "metadata": {
    "collapsed": false,
    "pycharm": {
     "name": "#%%\n"
    }
   }
  },
  {
   "cell_type": "code",
   "execution_count": null,
   "outputs": [],
   "source": [
    "storage_modulus = df.iloc[:, 5:75]\n",
    "loss_modulus = df.iloc[:, 75:145]\n",
    "\n",
    "feature_attrs_iqr_plot(storage_modulus, loss_modulus)\n",
    "plt.savefig(\n",
    "    fig_dir + \"/feature_attrs_iqr_2c_1_5.png\",\n",
    "    dpi=300,\n",
    "    bbox_inches=\"tight\",\n",
    "    pad_inches=0,\n",
    ")"
   ],
   "metadata": {
    "collapsed": false,
    "pycharm": {
     "name": "#%%\n"
    }
   }
  },
  {
   "cell_type": "code",
   "execution_count": null,
   "outputs": [],
   "source": [
    "dual_log_boxplot(\n",
    "    df.iloc[:, 5],\n",
    "    df.iloc[:, 75],\n",
    "    df.iloc[:, 62],\n",
    "    df.iloc[:, 132],\n",
    "    [-12, -10, -8, -6, -4, -2, 0, 2, 4],\n",
    "    [5.1, 5.2, 5.3, 5.4, 5.5, 5.6],\n",
    "    \"Frequency = $10^{-6}$ $s^{-1}$\",\n",
    "    r\"Frequency $\\approx 10^{4}$ $s^{-1}$\",\n",
    ")\n",
    "plt.savefig(\n",
    "    fig_dir + \"/boxplot_freq_2c_1_5.png\",\n",
    "    dpi=300,\n",
    "    bbox_inches=\"tight\",\n",
    "    pad_inches=0,\n",
    ")"
   ],
   "metadata": {
    "collapsed": false,
    "pycharm": {
     "name": "#%%\n"
    }
   }
  },
  {
   "cell_type": "code",
   "execution_count": null,
   "outputs": [],
   "source": [
    "corr_plot(df.iloc[:, 5:].corr())\n",
    "plt.savefig(\n",
    "    fig_dir + \"/corr_2c_1_5.png\", dpi=300, bbox_inches=\"tight\", pad_inches=0\n",
    ")"
   ],
   "metadata": {
    "collapsed": false,
    "pycharm": {
     "name": "#%%\n"
    }
   }
  },
  {
   "cell_type": "code",
   "execution_count": null,
   "outputs": [],
   "source": [
    "df = pd.read_csv(\"data/flow_data_2c_2.csv\")\n",
    "df.shape"
   ],
   "metadata": {
    "collapsed": false,
    "pycharm": {
     "name": "#%%\n"
    }
   }
  },
  {
   "cell_type": "code",
   "execution_count": null,
   "outputs": [],
   "source": [
    "targets = df.iloc[:, :5]\n",
    "storage_modulus = df.iloc[:, 5:75]\n",
    "loss_modulus = df.iloc[:, 75:145]\n",
    "features = pd.DataFrame(\n",
    "    {\n",
    "        \"G'\": storage_modulus.values.flatten(),\n",
    "        \"G''\": loss_modulus.values.flatten(),\n",
    "    }\n",
    ")\n",
    "\n",
    "summary_stats_targets_2c(targets).to_latex(\n",
    "    buf=tab_dir + \"/describe_targets_2c_2.tex\",\n",
    "    header=[\n",
    "        r\"$M_w^s$ [$\\nicefrac{g}{mol}$]\",\n",
    "        \"$PDI^s$\",\n",
    "        r\"$M_w^l$ [$\\nicefrac{g}{mol}$]\",\n",
    "        \"$PDI^l$\",\n",
    "        \"$\\phi^l$\",\n",
    "    ],\n",
    "    column_format=\"lrrrrr\",\n",
    "    index=True,\n",
    "    escape=False,\n",
    "    bold_rows=True,\n",
    "    caption=r\"Summary statistics for the $M_w^s$, $PDI^s$, $M_w^l$, $PDI^l$, and $\\phi^l$ target attributes ($\\frac{M_w^l}{M_w^s}>PDI_{max}^{2}$ bimodal dataset)\",\n",
    "    label=\"tab:describe_targets_2c_2\",\n",
    "    position=\"htb\",\n",
    ")\n",
    "\n",
    "summary_stats_features_2c(features).to_latex(\n",
    "    buf=tab_dir + \"/describe_features_2c_2.tex\",\n",
    "    header=[\"$G'$ [Pa]\", \"$G''$ [Pa]\"],\n",
    "    column_format=\"lrr\",\n",
    "    index=True,\n",
    "    escape=False,\n",
    "    bold_rows=True,\n",
    "    caption=r\"Summary statistics for the $G'$ and $G''$ features ($\\frac{M_w^l}{M_w^s}>PDI_{max}^{2}$ bimodal dataset)\",\n",
    "    label=\"tab:describe_features_2c_2\",\n",
    "    position=\"htb\",\n",
    ")"
   ],
   "metadata": {
    "collapsed": false,
    "pycharm": {
     "name": "#%%\n"
    }
   }
  },
  {
   "cell_type": "code",
   "execution_count": null,
   "outputs": [],
   "source": [
    "dual_hist_box_plot(\n",
    "    df[\"M_W_S\"], df[\"M_W_L\"], \"$M_w^s$ [$g/mol$]\", \"$M_w^l$ [$g/mol$]\"\n",
    ")\n",
    "plt.savefig(\n",
    "    fig_dir + \"/box_hist_2c_2_mw.png\",\n",
    "    dpi=300,\n",
    "    bbox_inches=\"tight\",\n",
    "    pad_inches=0,\n",
    ")"
   ],
   "metadata": {
    "collapsed": false,
    "pycharm": {
     "name": "#%%\n"
    }
   }
  },
  {
   "cell_type": "code",
   "execution_count": null,
   "outputs": [],
   "source": [
    "dual_hist_box_plot(df[\"PDI_S\"], df[\"PDI_L\"], \"$PDI^s$\", \"$PDI^l$\")\n",
    "plt.savefig(\n",
    "    fig_dir + \"/box_hist_2c_2_pdi.png\",\n",
    "    dpi=300,\n",
    "    bbox_inches=\"tight\",\n",
    "    pad_inches=0,\n",
    ")"
   ],
   "metadata": {
    "collapsed": false,
    "pycharm": {
     "name": "#%%\n"
    }
   }
  },
  {
   "cell_type": "code",
   "execution_count": null,
   "outputs": [],
   "source": [
    "dual_hist_box_plot(df[\"phi_L\"], None, \"$\\phi^l$\", None)\n",
    "plt.savefig(\n",
    "    fig_dir + \"/box_hist_2c_2_phi.png\",\n",
    "    dpi=300,\n",
    "    bbox_inches=\"tight\",\n",
    "    pad_inches=0,\n",
    ")"
   ],
   "metadata": {
    "collapsed": false,
    "pycharm": {
     "name": "#%%\n"
    }
   }
  },
  {
   "cell_type": "code",
   "execution_count": null,
   "outputs": [],
   "source": [
    "storage_modulus = df.iloc[:, 5:75]\n",
    "loss_modulus = df.iloc[:, 75:145]\n",
    "\n",
    "feature_attrs_iqr_plot(storage_modulus, loss_modulus)\n",
    "plt.savefig(\n",
    "    fig_dir + \"/feature_attrs_iqr_2c_2.png\",\n",
    "    dpi=300,\n",
    "    bbox_inches=\"tight\",\n",
    "    pad_inches=0,\n",
    ")"
   ],
   "metadata": {
    "collapsed": false,
    "pycharm": {
     "name": "#%%\n"
    }
   }
  },
  {
   "cell_type": "code",
   "execution_count": null,
   "outputs": [],
   "source": [
    "dual_log_boxplot(\n",
    "    df.iloc[:, 5],\n",
    "    df.iloc[:, 75],\n",
    "    df.iloc[:, 62],\n",
    "    df.iloc[:, 132],\n",
    "    [-12, -10, -8, -6, -4, -2, 0, 2, 4],\n",
    "    [5.1, 5.2, 5.3, 5.4, 5.5, 5.6],\n",
    "    \"Frequency = $10^{-6}$ $s^{-1}$\",\n",
    "    r\"Frequency $\\approx 10^{4}$ $s^{-1}$\",\n",
    ")\n",
    "plt.savefig(\n",
    "    fig_dir + \"/boxplot_freq_2c_2.png\",\n",
    "    dpi=300,\n",
    "    bbox_inches=\"tight\",\n",
    "    pad_inches=0,\n",
    ")"
   ],
   "metadata": {
    "collapsed": false,
    "pycharm": {
     "name": "#%%\n"
    }
   }
  },
  {
   "cell_type": "code",
   "execution_count": null,
   "outputs": [],
   "source": [
    "corr_plot(df.iloc[:, 5:].corr())\n",
    "plt.savefig(\n",
    "    fig_dir + \"/corr_2c_2.png\", dpi=300, bbox_inches=\"tight\", pad_inches=0\n",
    ")"
   ],
   "metadata": {
    "collapsed": false,
    "pycharm": {
     "name": "#%%\n"
    }
   }
  },
  {
   "cell_type": "code",
   "execution_count": null,
   "outputs": [],
   "source": [
    "df1 = pd.read_csv(\"data/flow_data_2c_1.5.csv\")\n",
    "df2 = pd.read_csv(\"data/flow_data_2c_2.csv\")"
   ],
   "metadata": {
    "collapsed": false,
    "pycharm": {
     "name": "#%%\n"
    }
   }
  },
  {
   "cell_type": "code",
   "execution_count": null,
   "outputs": [],
   "source": [
    "fig, ax = plt.subplots()\n",
    "fig.set_figheight(2.5)\n",
    "fig.set_figwidth(7.5)\n",
    "plt.subplot2grid(shape=(1, 2), loc=(0, 0), colspan=1)\n",
    "plt.title(r\"$\\frac{M_w^l}{M_w^s}>PDI_{max}^{1.5}$\", color=label_color, size=12)\n",
    "datapoints_scatter(df1.sample(20000), dual=True, s=0.5, legend=False)\n",
    "plt.subplot2grid(shape=(1, 2), loc=(0, 1), colspan=1)\n",
    "plt.title(r\"$\\frac{M_w^l}{M_w^s}>PDI_{max}^{2}$\", color=label_color, size=12)\n",
    "datapoints_scatter(df2.sample(20000), dual=True, s=0.5, yaxis=False)\n",
    "plt.subplots_adjust(wspace=0.019)\n",
    "plt.savefig(\n",
    "    fig_dir + \"/datapoints_scatter_2c_1.5_2.png\",\n",
    "    dpi=300,\n",
    "    bbox_inches=\"tight\",\n",
    "    pad_inches=0,\n",
    ")"
   ],
   "metadata": {
    "collapsed": false,
    "pycharm": {
     "name": "#%%\n"
    }
   }
  }
 ],
 "metadata": {
  "kernelspec": {
   "display_name": "Python 3",
   "language": "python",
   "name": "python3"
  },
  "language_info": {
   "codemirror_mode": {
    "name": "ipython",
    "version": 2
   },
   "file_extension": ".py",
   "mimetype": "text/x-python",
   "name": "python",
   "nbconvert_exporter": "python",
   "pygments_lexer": "ipython2",
   "version": "2.7.6"
  }
 },
 "nbformat": 4,
 "nbformat_minor": 0
}