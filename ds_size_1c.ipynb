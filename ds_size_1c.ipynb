{
 "cells": [
  {
   "cell_type": "code",
   "execution_count": null,
   "metadata": {
    "pycharm": {
     "name": "#%%\n"
    }
   },
   "outputs": [],
   "source": [
    "import pandas as pd\n",
    "import numpy as np\n",
    "import torch\n",
    "import random\n",
    "import matplotlib as mpl\n",
    "import matplotlib.pyplot as plt\n",
    "from sklearn.pipeline import Pipeline\n",
    "from sklearn.model_selection import train_test_split\n",
    "from sklearn.preprocessing import MinMaxScaler\n",
    "from sklearn.compose import TransformedTargetRegressor\n",
    "from torch import nn\n",
    "from skorch import NeuralNetRegressor\n",
    "from tqdm import tqdm\n",
    "from utils.neural_nets import NN_Module_1C\n",
    "from utils.metrics import ds_size_rel_errors\n",
    "from utils.charts import ds_size_rel_error_plot\n",
    "from utils.params import fig_dir\n",
    "\n",
    "%config InlineBackend.figure_format ='retina'\n",
    "mpl.style.use(\"ggplot\")\n",
    "torch.manual_seed(42)\n",
    "torch.cuda.manual_seed(42)\n",
    "random.seed(42)\n",
    "np.random.seed(42)"
   ]
  },
  {
   "cell_type": "code",
   "execution_count": null,
   "outputs": [],
   "source": [
    "df = pd.read_csv(\"data/flow_data_1c.csv\").astype(np.float32)\n",
    "df.shape"
   ],
   "metadata": {
    "collapsed": false,
    "pycharm": {
     "name": "#%%\n"
    }
   }
  },
  {
   "cell_type": "code",
   "execution_count": null,
   "outputs": [],
   "source": [
    "df_train, df_test = train_test_split(df, test_size=0.1, random_state=42)\n",
    "\n",
    "df_train.to_csv(\"logs/ds_size/1c/df_train.csv\", index=False)\n",
    "df_test.to_csv(\"logs/ds_size/1c/df_test.csv\", index=False)"
   ],
   "metadata": {
    "collapsed": false,
    "pycharm": {
     "name": "#%%\n"
    }
   }
  },
  {
   "cell_type": "code",
   "execution_count": null,
   "outputs": [],
   "source": [
    "df_train = pd.read_csv(\"logs/ds_size/1c/df_train.csv\").astype(np.float32)\n",
    "df_test = pd.read_csv(\"logs/ds_size/1c/df_test.csv\").astype(np.float32)\n",
    "X_test, Y_test = df_test.iloc[:, -140:], df_test.iloc[:, :2]\n",
    "\n",
    "print(df_train.shape, df_test.shape)"
   ],
   "metadata": {
    "collapsed": false,
    "pycharm": {
     "name": "#%%\n"
    }
   }
  },
  {
   "cell_type": "code",
   "execution_count": null,
   "outputs": [],
   "source": [
    "sample_sizes = np.arange(start=122500, stop=len(df_train) + 1, step=5000)\n",
    "for n_samples in tqdm(sample_sizes):\n",
    "    train_sample = df_train.sample(round(n_samples), random_state=42)\n",
    "    X_train, Y_train = train_sample.iloc[:, -140:], train_sample.iloc[:, :2]\n",
    "\n",
    "    net = NeuralNetRegressor(\n",
    "        module=NN_Module_1C,\n",
    "        module__num_targets=2,\n",
    "        criterion=nn.MSELoss,\n",
    "        optimizer=torch.optim.AdamW,\n",
    "        lr=1e-05,\n",
    "        max_epochs=170,\n",
    "        verbose=0,\n",
    "        device=\"cuda\" if torch.cuda.is_available() else \"cpu\",\n",
    "    )\n",
    "    tt = TransformedTargetRegressor(regressor=net, transformer=MinMaxScaler())\n",
    "    pipe = Pipeline(\n",
    "        [\n",
    "            (\"scale\", MinMaxScaler()),\n",
    "            (\"tt\", tt),\n",
    "        ]\n",
    "    )\n",
    "\n",
    "    pipe.fit(X_train, Y_train)\n",
    "\n",
    "    Y_pred = pipe.predict(X_test)\n",
    "    np.save(f\"logs/ds_size/1c/Y_pred_{n_samples}\", Y_pred, allow_pickle=False)"
   ],
   "metadata": {
    "collapsed": false,
    "pycharm": {
     "name": "#%%\n"
    }
   }
  },
  {
   "cell_type": "code",
   "execution_count": null,
   "outputs": [],
   "source": [
    "sample_sizes = np.arange(start=2500, stop=135_000 + 1, step=2500)\n",
    "df_rel_errs = ds_size_rel_errors(\"1c\", sample_sizes, [\"$M_w$\", \"$PDI$\"])\n",
    "df_rel_errs"
   ],
   "metadata": {
    "collapsed": false,
    "pycharm": {
     "name": "#%%\n"
    }
   }
  },
  {
   "cell_type": "code",
   "execution_count": null,
   "outputs": [],
   "source": [
    "ds_size_rel_error_plot(df_rel_errs)\n",
    "\n",
    "plt.savefig(\n",
    "    fig_dir + \"/dataset_size_1c.png\", dpi=300, bbox_inches=\"tight\", pad_inches=0\n",
    ")"
   ],
   "metadata": {
    "collapsed": false,
    "pycharm": {
     "name": "#%%\n"
    }
   }
  }
 ],
 "metadata": {
  "kernelspec": {
   "display_name": "Python 3",
   "language": "python",
   "name": "python3"
  },
  "language_info": {
   "codemirror_mode": {
    "name": "ipython",
    "version": 3
   },
   "file_extension": ".py",
   "mimetype": "text/x-python",
   "name": "python",
   "nbconvert_exporter": "python",
   "pygments_lexer": "ipython3",
   "version": "3.8.5"
  }
 },
 "nbformat": 4,
 "nbformat_minor": 1
}