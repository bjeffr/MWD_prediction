{
 "cells": [
  {
   "cell_type": "code",
   "execution_count": 2,
   "outputs": [],
   "source": [
    "import os\n",
    "import pandas as pd"
   ],
   "metadata": {
    "collapsed": false,
    "pycharm": {
     "name": "#%%\n"
    }
   }
  },
  {
   "cell_type": "code",
   "execution_count": null,
   "outputs": [],
   "source": [
    "df = pd.read_csv(\"data/flow_data_2c_None.csv\")\n",
    "\n",
    "data_dir = \"\"\n",
    "for filename in os.listdir(data_dir):\n",
    "    gtp = pd.read_csv(data_dir + filename)\n",
    "    df = pd.concat([df, gtp])\n",
    "\n",
    "df.reset_index(drop=True, inplace=True)\n",
    "df"
   ],
   "metadata": {
    "collapsed": false,
    "pycharm": {
     "name": "#%%\n"
    }
   }
  },
  {
   "cell_type": "code",
   "execution_count": 6,
   "outputs": [],
   "source": [
    "df = df.sample(200_000)"
   ],
   "metadata": {
    "collapsed": false,
    "pycharm": {
     "name": "#%%\n"
    }
   }
  },
  {
   "cell_type": "code",
   "execution_count": 7,
   "outputs": [
    {
     "data": {
      "text/plain": "            M_W_S     PDI_S       M_W_L     PDI_L     phi_L         G'1  \\\n66818   5273726.0  1.318044   9567247.0  1.299235  0.330635   955.12230   \n9415      61297.0  8.858669   7996020.0  8.857959  0.030054     0.08240   \n38348     97564.0  7.681008   7897908.0  7.738444  0.785690  1309.25200   \n183119  4587763.0  1.195858   9303591.0  1.058167  0.139578   211.40470   \n110584   185325.0  2.378266   9975711.0  2.627213  0.627514  1929.42500   \n...           ...       ...         ...       ...       ...         ...   \n132498   214718.0  2.144978   8562851.0  3.444466  0.951701  2941.43200   \n22416     76304.0  9.289403  11218866.0  6.387853  0.247119   182.26010   \n91253    615189.0  1.545912  10182648.0  3.735479  0.311223   438.59910   \n157546   412345.0  2.561709   6433422.0  1.365878  0.995190   746.21360   \n201682   373648.0  2.491439   8773067.0  4.470678  0.151170    56.86347   \n\n                G'2          G'3          G'4           G'5  ...     G''61  \\\n66818   1686.086000  2898.438000  4842.687000   7842.452000  ...  737127.7   \n9415       0.119712     0.171998     0.244358      0.343208  ...  716403.3   \n38348   1753.300000  2316.729000  3021.627000   3892.003000  ...  739909.7   \n183119   433.640900   857.003900  1625.241000   2953.433000  ...  737181.9   \n110584  2748.265000  3824.177000  5200.500000   6915.886000  ...  741791.3   \n...             ...          ...          ...           ...  ...       ...   \n132498  4156.790000  5761.413000  7833.055000  10448.370000  ...  737800.9   \n22416    238.019400   306.653300   389.787500    488.846500  ...  728054.5   \n91253    601.819500   811.298800  1074.484000   1398.241000  ...  739008.2   \n157546  1355.696000  2398.002000  4121.120000   6860.864000  ...  737162.6   \n201682    78.510540   106.676100   142.686800    187.928200  ...  742793.3   \n\n           G''62      G''63      G''64      G''65      G''66      G''67  \\\n66818   952785.2  1233109.0  1603464.0  2099617.0  2772641.0  3696436.0   \n9415    932100.5  1215403.0  1591842.0  2097699.0  2785039.0  3729331.0   \n38348   954674.3  1234725.0  1605363.0  2102358.0  2776868.0  3702966.0   \n183119  952825.9  1233140.0  1603488.0  2099636.0  2772656.0  3696449.0   \n110584  956475.7  1236076.0  1605898.0  2101662.0  2774417.0  3698047.0   \n...          ...        ...        ...        ...        ...        ...   \n132498  953320.9  1233542.0  1603821.0  2099917.0  2772901.0  3696670.0   \n22416   942919.5  1224509.0  1598193.0  2099978.0  2781487.0  3717524.0   \n91253   954266.6  1234289.0  1604418.0  2100397.0  2773288.0  3696981.0   \n157546  952812.3  1233130.0  1603481.0  2099630.0  2772651.0  3696444.0   \n201682  957280.0  1236711.0  1606380.0  2101995.0  2774592.0  3698039.0   \n\n            G''68      G''69      G''70  \n66818   4979504.0  6784286.0  9360042.0  \n9415    5041172.0  6885001.0  9509798.0  \n38348   4989399.0  6798835.0  9380440.0  \n183119  4979516.0  6784299.0  9360055.0  \n110584  4981052.0  6785875.0  9361770.0  \n...           ...        ...        ...  \n132498  4979726.0  6784509.0  9360277.0  \n22416   5017812.0  6845904.0  9450683.0  \n91253   4979973.0  6784699.0  9360418.0  \n157546  4979510.0  6784291.0  9360045.0  \n201682  4980821.0  6785368.0  9360947.0  \n\n[200000 rows x 145 columns]",
      "text/html": "<div>\n<style scoped>\n    .dataframe tbody tr th:only-of-type {\n        vertical-align: middle;\n    }\n\n    .dataframe tbody tr th {\n        vertical-align: top;\n    }\n\n    .dataframe thead th {\n        text-align: right;\n    }\n</style>\n<table border=\"1\" class=\"dataframe\">\n  <thead>\n    <tr style=\"text-align: right;\">\n      <th></th>\n      <th>M_W_S</th>\n      <th>PDI_S</th>\n      <th>M_W_L</th>\n      <th>PDI_L</th>\n      <th>phi_L</th>\n      <th>G'1</th>\n      <th>G'2</th>\n      <th>G'3</th>\n      <th>G'4</th>\n      <th>G'5</th>\n      <th>...</th>\n      <th>G''61</th>\n      <th>G''62</th>\n      <th>G''63</th>\n      <th>G''64</th>\n      <th>G''65</th>\n      <th>G''66</th>\n      <th>G''67</th>\n      <th>G''68</th>\n      <th>G''69</th>\n      <th>G''70</th>\n    </tr>\n  </thead>\n  <tbody>\n    <tr>\n      <th>66818</th>\n      <td>5273726.0</td>\n      <td>1.318044</td>\n      <td>9567247.0</td>\n      <td>1.299235</td>\n      <td>0.330635</td>\n      <td>955.12230</td>\n      <td>1686.086000</td>\n      <td>2898.438000</td>\n      <td>4842.687000</td>\n      <td>7842.452000</td>\n      <td>...</td>\n      <td>737127.7</td>\n      <td>952785.2</td>\n      <td>1233109.0</td>\n      <td>1603464.0</td>\n      <td>2099617.0</td>\n      <td>2772641.0</td>\n      <td>3696436.0</td>\n      <td>4979504.0</td>\n      <td>6784286.0</td>\n      <td>9360042.0</td>\n    </tr>\n    <tr>\n      <th>9415</th>\n      <td>61297.0</td>\n      <td>8.858669</td>\n      <td>7996020.0</td>\n      <td>8.857959</td>\n      <td>0.030054</td>\n      <td>0.08240</td>\n      <td>0.119712</td>\n      <td>0.171998</td>\n      <td>0.244358</td>\n      <td>0.343208</td>\n      <td>...</td>\n      <td>716403.3</td>\n      <td>932100.5</td>\n      <td>1215403.0</td>\n      <td>1591842.0</td>\n      <td>2097699.0</td>\n      <td>2785039.0</td>\n      <td>3729331.0</td>\n      <td>5041172.0</td>\n      <td>6885001.0</td>\n      <td>9509798.0</td>\n    </tr>\n    <tr>\n      <th>38348</th>\n      <td>97564.0</td>\n      <td>7.681008</td>\n      <td>7897908.0</td>\n      <td>7.738444</td>\n      <td>0.785690</td>\n      <td>1309.25200</td>\n      <td>1753.300000</td>\n      <td>2316.729000</td>\n      <td>3021.627000</td>\n      <td>3892.003000</td>\n      <td>...</td>\n      <td>739909.7</td>\n      <td>954674.3</td>\n      <td>1234725.0</td>\n      <td>1605363.0</td>\n      <td>2102358.0</td>\n      <td>2776868.0</td>\n      <td>3702966.0</td>\n      <td>4989399.0</td>\n      <td>6798835.0</td>\n      <td>9380440.0</td>\n    </tr>\n    <tr>\n      <th>183119</th>\n      <td>4587763.0</td>\n      <td>1.195858</td>\n      <td>9303591.0</td>\n      <td>1.058167</td>\n      <td>0.139578</td>\n      <td>211.40470</td>\n      <td>433.640900</td>\n      <td>857.003900</td>\n      <td>1625.241000</td>\n      <td>2953.433000</td>\n      <td>...</td>\n      <td>737181.9</td>\n      <td>952825.9</td>\n      <td>1233140.0</td>\n      <td>1603488.0</td>\n      <td>2099636.0</td>\n      <td>2772656.0</td>\n      <td>3696449.0</td>\n      <td>4979516.0</td>\n      <td>6784299.0</td>\n      <td>9360055.0</td>\n    </tr>\n    <tr>\n      <th>110584</th>\n      <td>185325.0</td>\n      <td>2.378266</td>\n      <td>9975711.0</td>\n      <td>2.627213</td>\n      <td>0.627514</td>\n      <td>1929.42500</td>\n      <td>2748.265000</td>\n      <td>3824.177000</td>\n      <td>5200.500000</td>\n      <td>6915.886000</td>\n      <td>...</td>\n      <td>741791.3</td>\n      <td>956475.7</td>\n      <td>1236076.0</td>\n      <td>1605898.0</td>\n      <td>2101662.0</td>\n      <td>2774417.0</td>\n      <td>3698047.0</td>\n      <td>4981052.0</td>\n      <td>6785875.0</td>\n      <td>9361770.0</td>\n    </tr>\n    <tr>\n      <th>...</th>\n      <td>...</td>\n      <td>...</td>\n      <td>...</td>\n      <td>...</td>\n      <td>...</td>\n      <td>...</td>\n      <td>...</td>\n      <td>...</td>\n      <td>...</td>\n      <td>...</td>\n      <td>...</td>\n      <td>...</td>\n      <td>...</td>\n      <td>...</td>\n      <td>...</td>\n      <td>...</td>\n      <td>...</td>\n      <td>...</td>\n      <td>...</td>\n      <td>...</td>\n      <td>...</td>\n    </tr>\n    <tr>\n      <th>132498</th>\n      <td>214718.0</td>\n      <td>2.144978</td>\n      <td>8562851.0</td>\n      <td>3.444466</td>\n      <td>0.951701</td>\n      <td>2941.43200</td>\n      <td>4156.790000</td>\n      <td>5761.413000</td>\n      <td>7833.055000</td>\n      <td>10448.370000</td>\n      <td>...</td>\n      <td>737800.9</td>\n      <td>953320.9</td>\n      <td>1233542.0</td>\n      <td>1603821.0</td>\n      <td>2099917.0</td>\n      <td>2772901.0</td>\n      <td>3696670.0</td>\n      <td>4979726.0</td>\n      <td>6784509.0</td>\n      <td>9360277.0</td>\n    </tr>\n    <tr>\n      <th>22416</th>\n      <td>76304.0</td>\n      <td>9.289403</td>\n      <td>11218866.0</td>\n      <td>6.387853</td>\n      <td>0.247119</td>\n      <td>182.26010</td>\n      <td>238.019400</td>\n      <td>306.653300</td>\n      <td>389.787500</td>\n      <td>488.846500</td>\n      <td>...</td>\n      <td>728054.5</td>\n      <td>942919.5</td>\n      <td>1224509.0</td>\n      <td>1598193.0</td>\n      <td>2099978.0</td>\n      <td>2781487.0</td>\n      <td>3717524.0</td>\n      <td>5017812.0</td>\n      <td>6845904.0</td>\n      <td>9450683.0</td>\n    </tr>\n    <tr>\n      <th>91253</th>\n      <td>615189.0</td>\n      <td>1.545912</td>\n      <td>10182648.0</td>\n      <td>3.735479</td>\n      <td>0.311223</td>\n      <td>438.59910</td>\n      <td>601.819500</td>\n      <td>811.298800</td>\n      <td>1074.484000</td>\n      <td>1398.241000</td>\n      <td>...</td>\n      <td>739008.2</td>\n      <td>954266.6</td>\n      <td>1234289.0</td>\n      <td>1604418.0</td>\n      <td>2100397.0</td>\n      <td>2773288.0</td>\n      <td>3696981.0</td>\n      <td>4979973.0</td>\n      <td>6784699.0</td>\n      <td>9360418.0</td>\n    </tr>\n    <tr>\n      <th>157546</th>\n      <td>412345.0</td>\n      <td>2.561709</td>\n      <td>6433422.0</td>\n      <td>1.365878</td>\n      <td>0.995190</td>\n      <td>746.21360</td>\n      <td>1355.696000</td>\n      <td>2398.002000</td>\n      <td>4121.120000</td>\n      <td>6860.864000</td>\n      <td>...</td>\n      <td>737162.6</td>\n      <td>952812.3</td>\n      <td>1233130.0</td>\n      <td>1603481.0</td>\n      <td>2099630.0</td>\n      <td>2772651.0</td>\n      <td>3696444.0</td>\n      <td>4979510.0</td>\n      <td>6784291.0</td>\n      <td>9360045.0</td>\n    </tr>\n    <tr>\n      <th>201682</th>\n      <td>373648.0</td>\n      <td>2.491439</td>\n      <td>8773067.0</td>\n      <td>4.470678</td>\n      <td>0.151170</td>\n      <td>56.86347</td>\n      <td>78.510540</td>\n      <td>106.676100</td>\n      <td>142.686800</td>\n      <td>187.928200</td>\n      <td>...</td>\n      <td>742793.3</td>\n      <td>957280.0</td>\n      <td>1236711.0</td>\n      <td>1606380.0</td>\n      <td>2101995.0</td>\n      <td>2774592.0</td>\n      <td>3698039.0</td>\n      <td>4980821.0</td>\n      <td>6785368.0</td>\n      <td>9360947.0</td>\n    </tr>\n  </tbody>\n</table>\n<p>200000 rows × 145 columns</p>\n</div>"
     },
     "execution_count": 7,
     "metadata": {},
     "output_type": "execute_result"
    }
   ],
   "source": [
    "indices = []\n",
    "for index, row in df.iterrows():\n",
    "    PDI_max = row[\"PDI_S\"] if row[\"PDI_S\"] > row[\"PDI_L\"] else row[\"PDI_L\"]\n",
    "    if row[\"M_W_L\"] / row[\"M_W_S\"] > PDI_max ** 2:\n",
    "        indices.append(index)\n",
    "\n",
    "df.loc[indices]"
   ],
   "metadata": {
    "collapsed": false,
    "pycharm": {
     "name": "#%%\n"
    }
   }
  },
  {
   "cell_type": "code",
   "execution_count": 8,
   "outputs": [
    {
     "data": {
      "text/plain": "200000"
     },
     "execution_count": 8,
     "metadata": {},
     "output_type": "execute_result"
    }
   ],
   "source": [
    "len(df.PDI_S.unique())"
   ],
   "metadata": {
    "collapsed": false,
    "pycharm": {
     "name": "#%%\n"
    }
   }
  },
  {
   "cell_type": "code",
   "execution_count": 9,
   "outputs": [],
   "source": [
    "df.to_csv(\"data/flow_data_2c_None.csv\", index=False)"
   ],
   "metadata": {
    "collapsed": false,
    "pycharm": {
     "name": "#%%\n"
    }
   }
  }
 ],
 "metadata": {
  "kernelspec": {
   "display_name": "Python 3",
   "language": "python",
   "name": "python3"
  },
  "language_info": {
   "codemirror_mode": {
    "name": "ipython",
    "version": 2
   },
   "file_extension": ".py",
   "mimetype": "text/x-python",
   "name": "python",
   "nbconvert_exporter": "python",
   "pygments_lexer": "ipython2",
   "version": "2.7.6"
  }
 },
 "nbformat": 4,
 "nbformat_minor": 0
}