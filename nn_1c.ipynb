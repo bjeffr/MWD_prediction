{
 "cells": [
  {
   "cell_type": "code",
   "execution_count": null,
   "metadata": {
    "pycharm": {
     "name": "#%%\n"
    }
   },
   "outputs": [],
   "source": [
    "import pandas as pd\n",
    "import numpy as np\n",
    "import torch\n",
    "import random\n",
    "import matplotlib as mpl\n",
    "import matplotlib.pyplot as plt\n",
    "from sklearn.pipeline import Pipeline\n",
    "from sklearn.model_selection import train_test_split\n",
    "from sklearn.preprocessing import MinMaxScaler\n",
    "from sklearn.compose import TransformedTargetRegressor\n",
    "from torch import nn\n",
    "from skorch import NeuralNetRegressor\n",
    "from skorch.callbacks import EarlyStopping\n",
    "from utils.neural_nets import NN_Module_1C\n",
    "from utils.params import fig_dir, tab_dir, label_color\n",
    "from utils.charts import loss_plot, abs_error_plot, rel_error_plot\n",
    "from utils.metrics import mean_absolute_errors, mean_relative_errors\n",
    "\n",
    "%config InlineBackend.figure_format ='retina'\n",
    "mpl.style.use(\"ggplot\")\n",
    "torch.manual_seed(42)\n",
    "torch.cuda.manual_seed(42)\n",
    "random.seed(42)\n",
    "np.random.seed(42)"
   ]
  },
  {
   "cell_type": "code",
   "execution_count": null,
   "outputs": [],
   "source": [
    "df = pd.read_csv(\"data/flow_data_1c.csv\").astype(np.float32)\n",
    "df.shape"
   ],
   "metadata": {
    "collapsed": false,
    "pycharm": {
     "name": "#%%\n"
    }
   }
  },
  {
   "cell_type": "code",
   "execution_count": null,
   "outputs": [],
   "source": [
    "indices = []\n",
    "for i, row in df.iterrows():\n",
    "    if row[\"PDI\"] >= 2 and row[\"M_W\"] >= 1_287_000:\n",
    "        indices.append(i)\n",
    "\n",
    "df = df.loc[indices].sample(120_000)\n",
    "\n",
    "df.shape"
   ],
   "metadata": {
    "collapsed": false,
    "pycharm": {
     "name": "#%%\n"
    }
   }
  },
  {
   "cell_type": "code",
   "execution_count": null,
   "outputs": [],
   "source": [
    "X_train, X_test, Y_train, Y_test = train_test_split(\n",
    "    df.iloc[:, -140:], df.iloc[:, :2], test_size=1 / 6\n",
    ")\n",
    "\n",
    "print(X_train.shape, Y_train.shape)"
   ],
   "metadata": {
    "collapsed": false,
    "pycharm": {
     "name": "#%%\n"
    }
   }
  },
  {
   "cell_type": "code",
   "execution_count": null,
   "outputs": [],
   "source": [
    "np.save(f\"data/predictions/nn/1c_best/Y_test_2\", Y_test, allow_pickle=False)"
   ],
   "metadata": {
    "collapsed": false,
    "pycharm": {
     "name": "#%%\n"
    }
   }
  },
  {
   "cell_type": "code",
   "execution_count": null,
   "outputs": [],
   "source": [
    "net = NeuralNetRegressor(\n",
    "    module=NN_Module_1C,\n",
    "    module__num_targets=2,\n",
    "    module__num_features=100,\n",
    "    criterion=nn.MSELoss,\n",
    "    optimizer=torch.optim.AdamW,\n",
    "    lr=1e-05,\n",
    "    max_epochs=500,\n",
    "    callbacks=[EarlyStopping(patience=5)],\n",
    "    device=\"cuda\" if torch.cuda.is_available() else \"cpu\",\n",
    ")\n",
    "tt = TransformedTargetRegressor(regressor=net, transformer=MinMaxScaler())\n",
    "pipe = Pipeline(\n",
    "    [\n",
    "        (\"scale\", MinMaxScaler()),\n",
    "        (\"tt\", tt),\n",
    "    ]\n",
    ")\n",
    "\n",
    "col_indices = np.concatenate(\n",
    "    [np.arange(start=0, stop=50), np.arange(start=70, stop=120)]\n",
    ")\n",
    "pipe.fit(X_train.iloc[:, col_indices], Y_train)"
   ],
   "metadata": {
    "collapsed": false,
    "pycharm": {
     "name": "#%%\n"
    }
   }
  },
  {
   "cell_type": "code",
   "execution_count": null,
   "outputs": [],
   "source": [
    "history = pd.DataFrame(pipe[1].regressor_.history)\n",
    "history = history[[\"epoch\", \"train_loss\", \"valid_loss\", \"dur\"]]\n",
    "history.set_index(\"epoch\", inplace=True)"
   ],
   "metadata": {
    "collapsed": false,
    "pycharm": {
     "name": "#%%\n"
    }
   }
  },
  {
   "cell_type": "code",
   "execution_count": null,
   "outputs": [],
   "source": [
    "loss_plot(history.loc[:, \"train_loss\"], history.loc[:, \"valid_loss\"])\n",
    "\n",
    "plt.savefig(\n",
    "    fig_dir + \"/nn_1c_loss.png\", dpi=300, bbox_inches=\"tight\", pad_inches=0\n",
    ")"
   ],
   "metadata": {
    "collapsed": false,
    "pycharm": {
     "name": "#%%\n"
    }
   }
  },
  {
   "cell_type": "code",
   "execution_count": null,
   "outputs": [],
   "source": [
    "loss_plot(history.loc[10:, \"train_loss\"], history.loc[10:, \"valid_loss\"])\n",
    "\n",
    "plt.savefig(\n",
    "    fig_dir + \"/nn_1c_loss_trunc.png\",\n",
    "    dpi=300,\n",
    "    bbox_inches=\"tight\",\n",
    "    pad_inches=0,\n",
    ")"
   ],
   "metadata": {
    "collapsed": false,
    "pycharm": {
     "name": "#%%\n"
    }
   }
  },
  {
   "cell_type": "code",
   "execution_count": null,
   "outputs": [],
   "source": [
    "Y_pred = pipe.predict(X_test.iloc[:, col_indices])"
   ],
   "metadata": {
    "collapsed": false,
    "pycharm": {
     "name": "#%%\n"
    }
   }
  },
  {
   "cell_type": "code",
   "execution_count": null,
   "outputs": [],
   "source": [
    "errs = mean_absolute_errors(Y_test.values, Y_pred)\n",
    "errs.extend(mean_relative_errors(Y_test.values, Y_pred))\n",
    "errs.append(np.mean(mean_relative_errors(Y_test.values, Y_pred)))\n",
    "errs"
   ],
   "metadata": {
    "collapsed": false,
    "pycharm": {
     "name": "#%%\n"
    }
   }
  },
  {
   "cell_type": "code",
   "execution_count": null,
   "outputs": [],
   "source": [
    "np.save(\"data/predictions/nn/1c_best/Y_pred_2\", Y_pred, allow_pickle=False)"
   ],
   "metadata": {
    "collapsed": false,
    "pycharm": {
     "name": "#%%\n"
    }
   }
  },
  {
   "cell_type": "code",
   "execution_count": null,
   "outputs": [],
   "source": [
    "errors = []"
   ],
   "metadata": {
    "collapsed": false,
    "pycharm": {
     "name": "#%%\n"
    }
   }
  },
  {
   "cell_type": "code",
   "execution_count": null,
   "outputs": [],
   "source": [
    "Y_test = np.load(\"data/predictions/nn/1c_best/Y_test_2.npy\", allow_pickle=False)\n",
    "Y_pred = np.load(\"data/predictions/nn/1c_best/Y_pred_2.npy\", allow_pickle=False)\n",
    "\n",
    "errs = mean_absolute_errors(Y_test, Y_pred)\n",
    "errs.extend(mean_relative_errors(Y_test, Y_pred))\n",
    "errs.append(np.mean(mean_relative_errors(Y_test, Y_pred)))\n",
    "errors.append(errs)"
   ],
   "metadata": {
    "collapsed": false,
    "pycharm": {
     "name": "#%%\n"
    }
   }
  },
  {
   "cell_type": "code",
   "execution_count": null,
   "outputs": [],
   "source": [
    "mod_errors = []\n",
    "for i, row in enumerate(errors):\n",
    "    new_row = []\n",
    "    for j, error in enumerate(row):\n",
    "        if j == 0:\n",
    "            if i == 0:\n",
    "                new_row.append(f\"{error:,.0f}\")\n",
    "            else:\n",
    "                new_row.append(\"\\green{\" + f\"{error:,.0f}\" + \"}\")\n",
    "        elif j == 1:\n",
    "            if i == 0:\n",
    "                new_row.append(f\"{error:.3f}\")\n",
    "            else:\n",
    "                new_row.append(\"\\green{\" + f\"{error:.3f}\" + \"}\")\n",
    "        else:\n",
    "            if i == 0:\n",
    "                new_row.append(f\"{error*100:.2f}\\%\")\n",
    "            else:\n",
    "                new_row.append(\"\\green{\" + f\"{error*100:.2f}\\%\" + \"}\")\n",
    "\n",
    "    mod_errors.append(new_row)"
   ],
   "metadata": {
    "collapsed": false,
    "pycharm": {
     "name": "#%%\n"
    }
   }
  },
  {
   "cell_type": "code",
   "execution_count": null,
   "outputs": [],
   "source": [
    "df_errors = pd.DataFrame(mod_errors, dtype=str)\n",
    "df_errors.index = [\"Full Dataset\", \"Reduced Target Range\"]\n",
    "\n",
    "df_errors.to_latex(\n",
    "    buf=tab_dir + \"/1c_best_errors_2.tex\",\n",
    "    header=[\n",
    "        r\"MAE ($M_w$)\",\n",
    "        \"MAE ($PDI$)\",\n",
    "        \"MRE ($M_w$)\",\n",
    "        \"MRE ($PDI$)\",\n",
    "        \"Avg. MRE\",\n",
    "    ],\n",
    "    column_format=\"lrrrrr\",\n",
    "    index=True,\n",
    "    escape=False,\n",
    "    bold_rows=True,\n",
    "    caption=r\"Mean absolute error (MAE), mean relative error (MRE) and the averaged MRE across all targets (Avg. MRE) of the best performing unimodal models with and without restricting the target ranges by $M_w \\geq$ 1,287,000 and $PDI \\geq$ 2 (100,000 training and 20,000 testing instances, using only the first 50 features each for $G'$ and $G''$, unimodal dataset)\",\n",
    "    label=\"tab:1c_best_errors\",\n",
    "    position=\"htb\",\n",
    ")"
   ],
   "metadata": {
    "collapsed": false,
    "pycharm": {
     "name": "#%%\n"
    }
   }
  },
  {
   "cell_type": "code",
   "execution_count": null,
   "metadata": {
    "pycharm": {
     "name": "#%%\n"
    }
   },
   "outputs": [],
   "source": [
    "labels = [\"$M_w$ [$g/mol$]\", \"$PDI$\"]\n",
    "\n",
    "fig, ax = plt.subplots()\n",
    "fig.set_figheight(2.8)\n",
    "fig.set_figwidth(8)\n",
    "\n",
    "abs_error_plot(Y_test.values, Y_pred, labels)\n",
    "plt.subplots_adjust(wspace=0.18)\n",
    "\n",
    "plt.savefig(\n",
    "    fig_dir + \"/nn_1c_abs_errors.png\",\n",
    "    dpi=300,\n",
    "    bbox_inches=\"tight\",\n",
    "    pad_inches=0,\n",
    ")"
   ]
  },
  {
   "cell_type": "code",
   "execution_count": null,
   "outputs": [],
   "source": [
    "labels = [\"$M_w$ [$g/mol$]\", \"$PDI$\"]\n",
    "\n",
    "fig, ax = plt.subplots()\n",
    "fig.set_figheight(2.7)\n",
    "fig.set_figwidth(8)\n",
    "\n",
    "rel_error_plot(Y_test.values, Y_pred, labels)\n",
    "plt.subplots_adjust(wspace=0.25)\n",
    "\n",
    "plt.savefig(\n",
    "    fig_dir + \"/nn_1c_rel_errors.png\",\n",
    "    dpi=300,\n",
    "    bbox_inches=\"tight\",\n",
    "    pad_inches=0,\n",
    ")"
   ],
   "metadata": {
    "collapsed": false,
    "pycharm": {
     "name": "#%%\n"
    }
   }
  },
  {
   "cell_type": "code",
   "execution_count": null,
   "outputs": [],
   "source": [
    "np.mean(mean_relative_errors(Y_test.values, Y_pred))"
   ],
   "metadata": {
    "collapsed": false,
    "pycharm": {
     "name": "#%%\n"
    }
   }
  },
  {
   "cell_type": "code",
   "execution_count": null,
   "outputs": [],
   "source": [
    "df_test = pd.read_csv(\"data/test_grid_1c.csv\").astype(np.float32)\n",
    "df_test"
   ],
   "metadata": {
    "collapsed": false,
    "pycharm": {
     "name": "#%%\n"
    }
   }
  },
  {
   "cell_type": "code",
   "execution_count": null,
   "outputs": [],
   "source": [
    "Y_pred = pipe.predict(df_test.iloc[:, -140:])"
   ],
   "metadata": {
    "collapsed": false,
    "pycharm": {
     "name": "#%%\n"
    }
   }
  },
  {
   "cell_type": "code",
   "execution_count": null,
   "outputs": [],
   "source": [
    "fig, ax = plt.subplots()\n",
    "fig.set_figheight(5)\n",
    "fig.set_figwidth(7.5)\n",
    "\n",
    "plt.scatter(\n",
    "    df_test[\"M_W\"],\n",
    "    df_test[\"PDI\"],\n",
    "    s=10,\n",
    "    color=plt.cm.tab10(0),\n",
    "    label=\"True values\",\n",
    ")\n",
    "plt.scatter(\n",
    "    Y_pred[:, 0],\n",
    "    Y_pred[:, 1],\n",
    "    s=10,\n",
    "    color=plt.cm.tab10(1),\n",
    "    zorder=10,\n",
    "    label=\"Predictions\",\n",
    ")\n",
    "\n",
    "plt.xlabel(\"$M_w$ [$g/mol$]\")\n",
    "plt.ylabel(\"$PDI$\")\n",
    "leg = plt.legend(\n",
    "    loc=\"center left\",\n",
    "    bbox_to_anchor=(1, 0.5),\n",
    "    frameon=False,\n",
    "    scatteryoffsets=[0.5],\n",
    "    labelcolor=label_color,\n",
    "    labelspacing=1.2,\n",
    "    handletextpad=0.1,\n",
    ")\n",
    "for legobj in leg.legendHandles:\n",
    "    legobj.set_sizes([40])\n",
    "\n",
    "plt.savefig(\n",
    "    fig_dir + \"/preds_vs_true_vals_1c.png\",\n",
    "    dpi=300,\n",
    "    bbox_inches=\"tight\",\n",
    "    pad_inches=0,\n",
    ")"
   ],
   "metadata": {
    "collapsed": false,
    "pycharm": {
     "name": "#%%\n"
    }
   }
  }
 ],
 "metadata": {
  "kernelspec": {
   "display_name": "Python 3",
   "language": "python",
   "name": "python3"
  },
  "language_info": {
   "codemirror_mode": {
    "name": "ipython",
    "version": 3
   },
   "file_extension": ".py",
   "mimetype": "text/x-python",
   "name": "python",
   "nbconvert_exporter": "python",
   "pygments_lexer": "ipython3",
   "version": "3.8.5"
  }
 },
 "nbformat": 4,
 "nbformat_minor": 1
}