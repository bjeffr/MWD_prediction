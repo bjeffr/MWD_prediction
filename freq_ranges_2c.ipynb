{
 "cells": [
  {
   "cell_type": "code",
   "execution_count": null,
   "metadata": {
    "collapsed": true
   },
   "outputs": [],
   "source": [
    "import pandas as pd\n",
    "import numpy as np\n",
    "import torch\n",
    "import random\n",
    "import matplotlib as mpl\n",
    "import matplotlib.pyplot as plt\n",
    "from sklearn.model_selection import train_test_split\n",
    "from sklearn.compose import TransformedTargetRegressor\n",
    "from sklearn.preprocessing import MinMaxScaler\n",
    "from sklearn.pipeline import Pipeline\n",
    "from skorch import NeuralNetRegressor\n",
    "from utils.neural_nets import NN_Module_2C\n",
    "from utils.params import fig_dir\n",
    "from utils.metrics import mean_relative_errors\n",
    "from utils.charts import plot_freq_range_errors\n",
    "from tqdm import tqdm\n",
    "\n",
    "%config InlineBackend.figure_format ='retina'\n",
    "mpl.style.use(\"ggplot\")\n",
    "torch.manual_seed(42)\n",
    "torch.cuda.manual_seed(42)\n",
    "random.seed(42)\n",
    "np.random.seed(42)"
   ]
  },
  {
   "cell_type": "code",
   "execution_count": null,
   "outputs": [],
   "source": [
    "df = pd.read_csv(\"data/flow_data_2c_1.csv\").astype(np.float32)\n",
    "df = df.sample(200_000)\n",
    "df.shape"
   ],
   "metadata": {
    "collapsed": false,
    "pycharm": {
     "name": "#%%\n"
    }
   }
  },
  {
   "cell_type": "code",
   "execution_count": null,
   "outputs": [],
   "source": [
    "X_train, X_test, Y_train, Y_test = train_test_split(\n",
    "    df.iloc[:, -140:], df.iloc[:, :5], test_size=0.1, random_state=42\n",
    ")\n",
    "\n",
    "print(X_train.shape, Y_train.shape)"
   ],
   "metadata": {
    "collapsed": false,
    "pycharm": {
     "name": "#%%\n"
    }
   }
  },
  {
   "cell_type": "code",
   "execution_count": null,
   "outputs": [],
   "source": [
    "np.save(\"data/predictions/freq_ranges/bimodal/X_train\", X_train, allow_pickle=False)\n",
    "np.save(\"data/predictions/freq_ranges/bimodal/X_test\", X_test, allow_pickle=False)\n",
    "np.save(\"data/predictions/freq_ranges/bimodal/Y_train\", Y_train, allow_pickle=False)\n",
    "np.save(\"data/predictions/freq_ranges/bimodal/Y_test\", Y_test, allow_pickle=False)"
   ],
   "metadata": {
    "collapsed": false,
    "pycharm": {
     "name": "#%%\n"
    }
   }
  },
  {
   "cell_type": "code",
   "execution_count": null,
   "outputs": [],
   "source": [
    "freq_ranges = np.load(\"data/predictions/freq_ranges/freq_ranges.npy\", allow_pickle=True)"
   ],
   "metadata": {
    "collapsed": false,
    "pycharm": {
     "name": "#%%\n"
    }
   }
  },
  {
   "cell_type": "code",
   "execution_count": null,
   "outputs": [],
   "source": [
    "with tqdm(total=28) as pbar:\n",
    "    for row in freq_ranges:\n",
    "        for freq_range in row:\n",
    "            storage_modulus_indices = list(\n",
    "                range(min(freq_range), max(freq_range))\n",
    "            )\n",
    "            loss_modulus_indices = list(\n",
    "                range(min(freq_range) + 70, max(freq_range) + 70)\n",
    "            )\n",
    "            X_train_freq_range = X_train[\n",
    "                :, storage_modulus_indices + loss_modulus_indices\n",
    "            ]\n",
    "            X_test_freq_range = X_test[\n",
    "                :, storage_modulus_indices + loss_modulus_indices\n",
    "            ]\n",
    "\n",
    "            net = NeuralNetRegressor(\n",
    "                module=NN_Module_2C,\n",
    "                module__num_targets=5,\n",
    "                module__num_features=X_train_freq_range.shape[1],\n",
    "                criterion=torch.nn.MSELoss,\n",
    "                optimizer=torch.optim.AdamW,\n",
    "                lr=2e-05,\n",
    "                max_epochs=100,\n",
    "                verbose=0,\n",
    "                device=\"cuda\" if torch.cuda.is_available() else \"cpu\",\n",
    "            )\n",
    "            tt = TransformedTargetRegressor(\n",
    "                regressor=net, transformer=MinMaxScaler()\n",
    "            )\n",
    "            pipe = Pipeline([(\"scale\", MinMaxScaler()), (\"tt\", tt)])\n",
    "\n",
    "            pipe.fit(X_train_freq_range, Y_train)\n",
    "\n",
    "            Y_pred = pipe.predict(X_test_freq_range)\n",
    "            np.save(\n",
    "                f\"data/predictions/freq_ranges/bimodal/Y_pred_{pbar.n}\",\n",
    "                Y_pred,\n",
    "                allow_pickle=False,\n",
    "            )\n",
    "\n",
    "            pbar.update(1)"
   ],
   "metadata": {
    "collapsed": false,
    "pycharm": {
     "name": "#%%\n"
    }
   }
  },
  {
   "cell_type": "code",
   "execution_count": null,
   "outputs": [],
   "source": [
    "errors = []\n",
    "for i in range(28):\n",
    "    Y_pred = np.load(\n",
    "        f\"data/predictions/freq_ranges/bimodal/Y_pred_{i}.npy\", allow_pickle=False\n",
    "    )\n",
    "    rel_errs = mean_relative_errors(Y_test, Y_pred)\n",
    "    errors.append(np.mean(rel_errs))\n",
    "errors = np.array(errors)"
   ],
   "metadata": {
    "collapsed": false,
    "pycharm": {
     "name": "#%%\n"
    }
   }
  },
  {
   "cell_type": "code",
   "execution_count": null,
   "outputs": [],
   "source": [
    "plot_freq_range_errors(errors, unimodal=False)\n",
    "\n",
    "plt.savefig(\n",
    "    fig_dir + \"/freq_ranges_2c.png\", dpi=300, bbox_inches=\"tight\", pad_inches=0\n",
    ")"
   ],
   "metadata": {
    "collapsed": false,
    "pycharm": {
     "name": "#%%\n"
    }
   }
  }
 ],
 "metadata": {
  "kernelspec": {
   "display_name": "Python 3",
   "language": "python",
   "name": "python3"
  },
  "language_info": {
   "codemirror_mode": {
    "name": "ipython",
    "version": 2
   },
   "file_extension": ".py",
   "mimetype": "text/x-python",
   "name": "python",
   "nbconvert_exporter": "python",
   "pygments_lexer": "ipython2",
   "version": "2.7.6"
  }
 },
 "nbformat": 4,
 "nbformat_minor": 0
}