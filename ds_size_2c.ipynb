{
 "cells": [
  {
   "cell_type": "code",
   "execution_count": null,
   "metadata": {
    "pycharm": {
     "name": "#%%\n"
    }
   },
   "outputs": [],
   "source": [
    "import pandas as pd\n",
    "import numpy as np\n",
    "import torch\n",
    "import random\n",
    "import matplotlib as mpl\n",
    "import matplotlib.pyplot as plt\n",
    "from matplotlib.ticker import StrMethodFormatter\n",
    "from sklearn.pipeline import Pipeline\n",
    "from sklearn.model_selection import train_test_split\n",
    "from sklearn.preprocessing import MinMaxScaler\n",
    "from sklearn.compose import TransformedTargetRegressor\n",
    "from torch import nn\n",
    "from skorch import NeuralNetRegressor\n",
    "from tqdm import tqdm\n",
    "from utils.neural_nets import NN_Module_2C\n",
    "from utils.params import fig_dir\n",
    "from utils.metrics import ds_size_rel_errors\n",
    "from utils.charts import ds_size_rel_error_plot\n",
    "\n",
    "%config InlineBackend.figure_format ='retina'\n",
    "mpl.style.use(\"ggplot\")\n",
    "torch.manual_seed(42)\n",
    "torch.cuda.manual_seed(42)\n",
    "random.seed(42)\n",
    "np.random.seed(42)"
   ]
  },
  {
   "cell_type": "code",
   "execution_count": null,
   "outputs": [],
   "source": [
    "df = pd.read_csv(\"data/flow_data_2c_2.csv\").astype(np.float32)\n",
    "df.shape"
   ],
   "metadata": {
    "collapsed": false,
    "pycharm": {
     "name": "#%%\n"
    }
   }
  },
  {
   "cell_type": "code",
   "execution_count": null,
   "outputs": [],
   "source": [
    "df_train, df_test = train_test_split(df, test_size=0.1, random_state=42)\n",
    "X_test, Y_test = df_test.iloc[:, -140:], df_test.iloc[:, :5]\n",
    "\n",
    "print(df_train.shape, df_test.shape)"
   ],
   "metadata": {
    "collapsed": false,
    "pycharm": {
     "name": "#%%\n"
    }
   }
  },
  {
   "cell_type": "code",
   "execution_count": null,
   "outputs": [],
   "source": [
    "np.save(f\"data/predictions/ds_size/2c_2/Y_test\", Y_test, allow_pickle=False)"
   ],
   "metadata": {
    "collapsed": false,
    "pycharm": {
     "name": "#%%\n"
    }
   }
  },
  {
   "cell_type": "code",
   "execution_count": null,
   "outputs": [],
   "source": [
    "sample_sizes = np.arange(start=5000, stop=len(df_train) + 1, step=5000)\n",
    "for n_samples in tqdm(sample_sizes):\n",
    "    train_sample = df_train.sample(round(n_samples), random_state=42)\n",
    "    X_train, Y_train = train_sample.iloc[:, -140:], train_sample.iloc[:, :5]\n",
    "\n",
    "    net = NeuralNetRegressor(\n",
    "        module=NN_Module_2C,\n",
    "        module__num_targets=5,\n",
    "        criterion=nn.MSELoss,\n",
    "        optimizer=torch.optim.AdamW,\n",
    "        lr=2e-05,\n",
    "        max_epochs=100,\n",
    "        verbose=0,\n",
    "        device=\"cuda\" if torch.cuda.is_available() else \"cpu\",\n",
    "    )\n",
    "    tt = TransformedTargetRegressor(regressor=net, transformer=MinMaxScaler())\n",
    "    pipe = Pipeline(\n",
    "        [\n",
    "            (\"scale\", MinMaxScaler()),\n",
    "            (\"tt\", tt),\n",
    "        ]\n",
    "    )\n",
    "\n",
    "    pipe.fit(X_train, Y_train)\n",
    "\n",
    "    Y_pred = pipe.predict(X_test)\n",
    "    np.save(f\"data/predictions/ds_size/2c_2/Y_pred_{n_samples}\", Y_pred, allow_pickle=False)"
   ],
   "metadata": {
    "collapsed": false,
    "pycharm": {
     "name": "#%%\n"
    }
   }
  },
  {
   "cell_type": "code",
   "execution_count": null,
   "outputs": [],
   "source": [
    "sample_sizes = np.arange(start=5000, stop=180_000 + 1, step=5000)\n",
    "df_rel_errs = ds_size_rel_errors(\n",
    "    \"2c_2\", sample_sizes, [\"$M_w^s$\", \"$PDI^s$\", \"$M_w^l$\", \"$PDI^l$\"]\n",
    ")"
   ],
   "metadata": {
    "collapsed": false,
    "pycharm": {
     "name": "#%%\n"
    }
   }
  },
  {
   "cell_type": "code",
   "execution_count": null,
   "outputs": [],
   "source": [
    "ds_size_rel_error_plot(df_rel_errs)\n",
    "\n",
    "plt.savefig(\n",
    "    fig_dir + \"/dataset_size_2c_2.png\",\n",
    "    dpi=300,\n",
    "    bbox_inches=\"tight\",\n",
    "    pad_inches=0,\n",
    ")"
   ],
   "metadata": {
    "collapsed": false,
    "pycharm": {
     "name": "#%%\n"
    }
   }
  },
  {
   "cell_type": "code",
   "execution_count": null,
   "outputs": [],
   "source": [
    "labels = [\"$M_w^s$\", \"$PDI^s$\", \"$M_w^l$\", \"$PDI^l$\"]\n",
    "datasets_errors = [\n",
    "    ds_size_rel_errors(\"2c_None\", sample_sizes, labels),\n",
    "    ds_size_rel_errors(\"2c_1\", sample_sizes, labels),\n",
    "    ds_size_rel_errors(\"2c_1_5\", sample_sizes, labels),\n",
    "    ds_size_rel_errors(\"2c_2\", sample_sizes, labels),\n",
    "]"
   ],
   "metadata": {
    "collapsed": false,
    "pycharm": {
     "name": "#%%\n"
    }
   }
  },
  {
   "cell_type": "code",
   "execution_count": null,
   "outputs": [],
   "source": [
    "labels = [\n",
    "    \"No restrictions\",\n",
    "    r\"$\\frac{M_w^l}{M_w^s}>PDI_{max}^1$\",\n",
    "    r\"$\\frac{M_w^l}{M_w^s}>PDI_{max}^{1.5}$\",\n",
    "    r\"$\\frac{M_w^l}{M_w^s}>PDI_{max}^{2}$\",\n",
    "]\n",
    "\n",
    "fig, ax = plt.subplots()\n",
    "fig.set_figheight(5)\n",
    "fig.set_figwidth(7.5)\n",
    "\n",
    "for i, df in enumerate(datasets_errors):\n",
    "    plt.plot(\n",
    "        np.mean(df, axis=1),\n",
    "        linewidth=0.8,\n",
    "        color=plt.cm.tab10(i),\n",
    "        label=labels[i],\n",
    "    )\n",
    "\n",
    "plt.xlabel(\"Training Set Size\")\n",
    "plt.ylabel(\"Avg. MRE ($M_w^s$, $PDI^s$, $M_w^l$, $PDI^l$)\")\n",
    "ax.yaxis.set_major_formatter(StrMethodFormatter(\"{x:.0%}\"))\n",
    "ax.xaxis.set_major_formatter(StrMethodFormatter(\"{x:,.0f}\"))\n",
    "plt.legend(loc=\"upper right\", framealpha=1, edgecolor=\"None\")\n",
    "\n",
    "plt.savefig(\n",
    "    fig_dir + \"/dataset_size_2c_all.png\",\n",
    "    dpi=300,\n",
    "    bbox_inches=\"tight\",\n",
    "    pad_inches=0,\n",
    ")"
   ],
   "metadata": {
    "collapsed": false,
    "pycharm": {
     "name": "#%%\n"
    }
   }
  }
 ],
 "metadata": {
  "kernelspec": {
   "display_name": "Python 3",
   "language": "python",
   "name": "python3"
  },
  "language_info": {
   "codemirror_mode": {
    "name": "ipython",
    "version": 3
   },
   "file_extension": ".py",
   "mimetype": "text/x-python",
   "name": "python",
   "nbconvert_exporter": "python",
   "pygments_lexer": "ipython3",
   "version": "3.8.5"
  }
 },
 "nbformat": 4,
 "nbformat_minor": 1
}