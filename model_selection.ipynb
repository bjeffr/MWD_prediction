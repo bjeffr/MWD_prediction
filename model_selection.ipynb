{
 "cells": [
  {
   "cell_type": "code",
   "execution_count": 1,
   "metadata": {
    "collapsed": true
   },
   "outputs": [],
   "source": [
    "import pandas as pd\n",
    "import numpy as np\n",
    "import torch\n",
    "import random\n",
    "from sklearn.pipeline import Pipeline\n",
    "from sklearn.model_selection import train_test_split\n",
    "from sklearn.preprocessing import MinMaxScaler\n",
    "from sklearn.compose import TransformedTargetRegressor\n",
    "from sklearn.tree import DecisionTreeRegressor\n",
    "from sklearn.ensemble import RandomForestRegressor\n",
    "from skorch import NeuralNetRegressor\n",
    "from utils.neural_nets import NN_Module_1C\n",
    "from utils.metrics import mean_absolute_errors, mean_relative_errors\n",
    "from utils.params import tab_dir\n",
    "\n",
    "torch.manual_seed(42)\n",
    "torch.cuda.manual_seed(42)\n",
    "random.seed(42)\n",
    "np.random.seed(42)"
   ]
  },
  {
   "cell_type": "code",
   "execution_count": 2,
   "outputs": [
    {
     "data": {
      "text/plain": "(50000, 142)"
     },
     "execution_count": 2,
     "metadata": {},
     "output_type": "execute_result"
    }
   ],
   "source": [
    "df = pd.read_csv(\"data/flow_data_1c.csv\").astype(np.float32)\n",
    "df = df.sample(50000)\n",
    "df.shape"
   ],
   "metadata": {
    "collapsed": false,
    "pycharm": {
     "name": "#%%\n"
    }
   }
  },
  {
   "cell_type": "code",
   "execution_count": 3,
   "outputs": [
    {
     "name": "stdout",
     "output_type": "stream",
     "text": [
      "(40000, 140) (40000, 2)\n"
     ]
    }
   ],
   "source": [
    "X_train, X_test, Y_train, Y_test = train_test_split(\n",
    "    df.iloc[:, -140:], df.iloc[:, :2], test_size=0.2, random_state=42\n",
    ")\n",
    "\n",
    "print(X_train.shape, Y_train.shape, X_test.shape, Y_test.shape)"
   ],
   "metadata": {
    "collapsed": false,
    "pycharm": {
     "name": "#%%\n"
    }
   }
  },
  {
   "cell_type": "code",
   "execution_count": 4,
   "outputs": [
    {
     "name": "stdout",
     "output_type": "stream",
     "text": [
      "Wall time: 5.73 s\n"
     ]
    }
   ],
   "source": [
    "%%time\n",
    "dtr = DecisionTreeRegressor(random_state=42)\n",
    "tt = TransformedTargetRegressor(regressor=dtr, transformer=MinMaxScaler())\n",
    "pipe = Pipeline(\n",
    "    [\n",
    "        (\"scale\", MinMaxScaler()),\n",
    "        (\"tt\", tt),\n",
    "    ]\n",
    ")\n",
    "\n",
    "pipe.fit(X_train, Y_train)\n",
    "\n",
    "Y_pred = pipe.predict(X_test)"
   ],
   "metadata": {
    "collapsed": false,
    "pycharm": {
     "name": "#%%\n"
    }
   }
  },
  {
   "cell_type": "code",
   "execution_count": 5,
   "outputs": [],
   "source": [
    "def errors_overview(Y_test, Y_pred):\n",
    "    errors = mean_absolute_errors(Y_test, Y_pred)\n",
    "    errors.extend(mean_relative_errors(Y_test, Y_pred))\n",
    "    errors.append(np.mean(mean_relative_errors(Y_test, Y_pred)))\n",
    "\n",
    "    return errors\n",
    "\n",
    "metrics = [errors_overview(Y_test.values, Y_pred)]"
   ],
   "metadata": {
    "collapsed": false,
    "pycharm": {
     "name": "#%%\n"
    }
   }
  },
  {
   "cell_type": "code",
   "execution_count": 6,
   "outputs": [
    {
     "name": "stdout",
     "output_type": "stream",
     "text": [
      "Wall time: 1min 4s\n"
     ]
    }
   ],
   "source": [
    "%%time\n",
    "rfr = RandomForestRegressor(random_state=42, n_jobs=-1)\n",
    "tt = TransformedTargetRegressor(regressor=rfr, transformer=MinMaxScaler())\n",
    "pipe = Pipeline(\n",
    "    [\n",
    "        (\"scale\", MinMaxScaler()),\n",
    "        (\"tt\", tt),\n",
    "    ]\n",
    ")\n",
    "\n",
    "pipe.fit(X_train, Y_train)\n",
    "\n",
    "Y_pred = pipe.predict(X_test)\n",
    "\n",
    "metrics.append(errors_overview(Y_test.values, Y_pred))"
   ],
   "metadata": {
    "collapsed": false,
    "pycharm": {
     "name": "#%%\n"
    }
   }
  },
  {
   "cell_type": "code",
   "execution_count": 7,
   "outputs": [
    {
     "name": "stdout",
     "output_type": "stream",
     "text": [
      "Wall time: 8min 30s\n"
     ]
    }
   ],
   "source": [
    "%%time\n",
    "net = NeuralNetRegressor(\n",
    "    module=NN_Module_1C,\n",
    "    module__num_targets=2,\n",
    "    criterion=torch.nn.MSELoss,\n",
    "    optimizer=torch.optim.AdamW,\n",
    "    lr=1e-05,\n",
    "    max_epochs=300,\n",
    "    verbose=0,\n",
    "    device=\"cuda\" if torch.cuda.is_available() else \"cpu\",\n",
    ")\n",
    "tt = TransformedTargetRegressor(regressor=net, transformer=MinMaxScaler())\n",
    "pipe = Pipeline(\n",
    "    [\n",
    "        (\"scale\", MinMaxScaler()),\n",
    "        (\"tt\", tt),\n",
    "    ]\n",
    ")\n",
    "\n",
    "pipe.fit(X_train, Y_train)\n",
    "\n",
    "Y_pred = pipe.predict(X_test)\n",
    "\n",
    "metrics.append(errors_overview(Y_test.values, Y_pred))"
   ],
   "metadata": {
    "collapsed": false,
    "pycharm": {
     "name": "#%%\n"
    }
   }
  },
  {
   "cell_type": "code",
   "execution_count": 20,
   "outputs": [
    {
     "data": {
      "text/plain": "                             0              1               2               3  \\\nDecision Tree           36,896          0.050          0.91\\%          3.03\\%   \nRandom Forest           13,635          0.025  \\green{0.33\\%}          1.86\\%   \nNeural Network  \\green{12,621}  \\green{0.024}          0.42\\%  \\green{1.14\\%}   \n\n                             4  \nDecision Tree           1.97\\%  \nRandom Forest           1.09\\%  \nNeural Network  \\green{0.78\\%}  ",
      "text/html": "<div>\n<style scoped>\n    .dataframe tbody tr th:only-of-type {\n        vertical-align: middle;\n    }\n\n    .dataframe tbody tr th {\n        vertical-align: top;\n    }\n\n    .dataframe thead th {\n        text-align: right;\n    }\n</style>\n<table border=\"1\" class=\"dataframe\">\n  <thead>\n    <tr style=\"text-align: right;\">\n      <th></th>\n      <th>0</th>\n      <th>1</th>\n      <th>2</th>\n      <th>3</th>\n      <th>4</th>\n    </tr>\n  </thead>\n  <tbody>\n    <tr>\n      <th>Decision Tree</th>\n      <td>36,896</td>\n      <td>0.050</td>\n      <td>0.91\\%</td>\n      <td>3.03\\%</td>\n      <td>1.97\\%</td>\n    </tr>\n    <tr>\n      <th>Random Forest</th>\n      <td>13,635</td>\n      <td>0.025</td>\n      <td>\\green{0.33\\%}</td>\n      <td>1.86\\%</td>\n      <td>1.09\\%</td>\n    </tr>\n    <tr>\n      <th>Neural Network</th>\n      <td>\\green{12,621}</td>\n      <td>\\green{0.024}</td>\n      <td>0.42\\%</td>\n      <td>\\green{1.14\\%}</td>\n      <td>\\green{0.78\\%}</td>\n    </tr>\n  </tbody>\n</table>\n</div>"
     },
     "execution_count": 20,
     "metadata": {},
     "output_type": "execute_result"
    }
   ],
   "source": [
    "metrics_df = pd.DataFrame(\n",
    "    metrics, index=[\"Decision Tree\", \"Random Forest\", \"Neural Network\"]\n",
    ")\n",
    "metrics_df = metrics_df.astype(str)\n",
    "\n",
    "for index, row in metrics_df.iterrows():\n",
    "    if float(row[0]) == np.array(metrics)[:, 0].min():\n",
    "        metrics_df.at[index, 0] = \"\\green{\" + f\"{float(row[0]):,.0f}\" + \"}\"\n",
    "    else:\n",
    "        metrics_df.at[index, 0] = f\"{float(row[0]):,.0f}\"\n",
    "    if float(row[1]) == np.array(metrics)[:, 1].min():\n",
    "        metrics_df.at[index, 1] = \"\\green{\" + f\"{float(row[1]):.3f}\" + \"}\"\n",
    "    else:\n",
    "        metrics_df.at[index, 1] = f\"{float(row[1]):.3f}\"\n",
    "    if float(row[2]) == np.array(metrics)[:, 2].min():\n",
    "        metrics_df.at[index, 2] = \"\\green{\" + f\"{float(row[2])*100:.2f}\\%\" + \"}\"\n",
    "    else:\n",
    "        metrics_df.at[index, 2] = f\"{float(row[2])*100:.2f}\\%\"\n",
    "    if float(row[3]) == np.array(metrics)[:, 3].min():\n",
    "        metrics_df.at[index, 3] = \"\\green{\" + f\"{float(row[3])*100:.2f}\\%\" + \"}\"\n",
    "    else:\n",
    "        metrics_df.at[index, 3] = f\"{float(row[3])*100:.2f}\\%\"\n",
    "    if float(row[4]) == np.array(metrics)[:, 4].min():\n",
    "        metrics_df.at[index, 4] = \"\\green{\" + f\"{float(row[4])*100:.2f}\\%\" + \"}\"\n",
    "    else:\n",
    "        metrics_df.at[index, 4] = f\"{float(row[4])*100:.2f}\\%\"\n",
    "\n",
    "metrics_df"
   ],
   "metadata": {
    "collapsed": false,
    "pycharm": {
     "name": "#%%\n"
    }
   }
  },
  {
   "cell_type": "code",
   "execution_count": 25,
   "outputs": [],
   "source": [
    "metrics_df.to_latex(\n",
    "    buf=tab_dir + \"/model_selection_1c.tex\",\n",
    "    header=[\n",
    "        r\"MAE ($M_w$)\",\n",
    "        \"MAE ($PDI$)\",\n",
    "        \"MRE ($M_w$)\",\n",
    "        \"MRE ($PDI$)\",\n",
    "        \"Avg. MRE\",\n",
    "    ],\n",
    "    column_format=\"lrrrrr\",\n",
    "    index=True,\n",
    "    escape=False,\n",
    "    bold_rows=True,\n",
    "    caption=r\"Mean absolute error (MAE), mean relative error (MRE) and the averaged MRE across all targets (Avg. MRE) for decision tree, random forest and neural network model predictions (unimodal dataset)\",\n",
    "    label=\"tab:model_selection_1c\",\n",
    "    position=\"htb\",\n",
    ")"
   ],
   "metadata": {
    "collapsed": false,
    "pycharm": {
     "name": "#%%\n"
    }
   }
  }
 ],
 "metadata": {
  "kernelspec": {
   "display_name": "Python 3",
   "language": "python",
   "name": "python3"
  },
  "language_info": {
   "codemirror_mode": {
    "name": "ipython",
    "version": 2
   },
   "file_extension": ".py",
   "mimetype": "text/x-python",
   "name": "python",
   "nbconvert_exporter": "python",
   "pygments_lexer": "ipython2",
   "version": "2.7.6"
  }
 },
 "nbformat": 4,
 "nbformat_minor": 0
}