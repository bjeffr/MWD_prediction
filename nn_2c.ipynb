{
 "cells": [
  {
   "cell_type": "code",
   "execution_count": null,
   "metadata": {
    "pycharm": {
     "name": "#%%\n"
    }
   },
   "outputs": [],
   "source": [
    "import pandas as pd\n",
    "import numpy as np\n",
    "import torch\n",
    "import random\n",
    "import matplotlib as mpl\n",
    "import matplotlib.pyplot as plt\n",
    "from utils.neural_nets import NN_Module_2C\n",
    "from sklearn.pipeline import Pipeline\n",
    "from sklearn.model_selection import train_test_split\n",
    "from sklearn.preprocessing import MinMaxScaler\n",
    "from sklearn.compose import TransformedTargetRegressor\n",
    "from skorch import NeuralNetRegressor\n",
    "from skorch.callbacks import EarlyStopping\n",
    "from utils.charts import loss_plot, abs_error_plot, rel_error_plot\n",
    "from utils.metrics import mean_absolute_errors, mean_relative_errors\n",
    "from utils.params import fig_dir, tab_dir\n",
    "\n",
    "%config InlineBackend.figure_format ='retina'\n",
    "mpl.style.use(\"ggplot\")\n",
    "torch.manual_seed(42)\n",
    "torch.cuda.manual_seed(42)\n",
    "random.seed(42)\n",
    "np.random.seed(42)"
   ]
  },
  {
   "cell_type": "code",
   "execution_count": null,
   "outputs": [],
   "source": [
    "df = pd.read_csv(\"data/flow_data_2c_1.csv\").astype(np.float32)\n",
    "df.shape"
   ],
   "metadata": {
    "collapsed": false,
    "pycharm": {
     "name": "#%%\n"
    }
   }
  },
  {
   "cell_type": "code",
   "execution_count": null,
   "outputs": [],
   "source": [
    "indices = []\n",
    "for i, row in df.iterrows():\n",
    "    if (\n",
    "        0.1 <= row[\"phi_L\"] <= 0.9\n",
    "        and row[\"PDI_S\"] >= 2\n",
    "        and row[\"PDI_L\"] >= 2\n",
    "        and row[\"M_W_S\"] >= 1_287_000\n",
    "        and row[\"M_W_L\"] >= 1_287_000\n",
    "    ):\n",
    "        indices.append(i)\n",
    "\n",
    "df = df.loc[indices].sample(45_000)"
   ],
   "metadata": {
    "collapsed": false,
    "pycharm": {
     "name": "#%%\n"
    }
   }
  },
  {
   "cell_type": "code",
   "execution_count": null,
   "outputs": [],
   "source": [
    "X_train, X_test, Y_train, Y_test = train_test_split(\n",
    "    df.iloc[:, -140:], df.iloc[:, :5], test_size=1 / 9, random_state=42\n",
    ")\n",
    "\n",
    "print(X_train.shape, Y_train.shape, X_test.shape, Y_test.shape)"
   ],
   "metadata": {
    "collapsed": false,
    "pycharm": {
     "name": "#%%\n"
    }
   }
  },
  {
   "cell_type": "code",
   "execution_count": null,
   "outputs": [],
   "source": [
    "np.save(f\"data/predictions/nn/2c_best/Y_test_2\", Y_test, allow_pickle=False)"
   ],
   "metadata": {
    "collapsed": false,
    "pycharm": {
     "name": "#%%\n"
    }
   }
  },
  {
   "cell_type": "code",
   "execution_count": null,
   "outputs": [],
   "source": [
    "net = NeuralNetRegressor(\n",
    "    module=NN_Module_2C,\n",
    "    module__num_targets=5,\n",
    "    module__num_features=100,\n",
    "    criterion=torch.nn.MSELoss,\n",
    "    optimizer=torch.optim.AdamW,\n",
    "    lr=2e-05,\n",
    "    max_epochs=500,\n",
    "    callbacks=[EarlyStopping(patience=10)],\n",
    "    device=\"cuda\" if torch.cuda.is_available() else \"cpu\",\n",
    ")\n",
    "tt = TransformedTargetRegressor(regressor=net, transformer=MinMaxScaler())\n",
    "pipe = Pipeline(\n",
    "    [\n",
    "        (\"scale\", MinMaxScaler()),\n",
    "        (\"tt\", tt),\n",
    "    ]\n",
    ")\n",
    "\n",
    "col_indices = np.concatenate(\n",
    "    [np.arange(start=0, stop=50), np.arange(start=70, stop=120)]\n",
    ")\n",
    "pipe.fit(X_train.iloc[:, col_indices], Y_train)"
   ],
   "metadata": {
    "collapsed": false,
    "pycharm": {
     "name": "#%%\n"
    }
   }
  },
  {
   "cell_type": "code",
   "execution_count": null,
   "outputs": [],
   "source": [
    "history = pd.DataFrame(pipe[1].regressor_.history)\n",
    "history = history[[\"epoch\", \"train_loss\", \"valid_loss\", \"dur\"]]\n",
    "history.set_index(\"epoch\", inplace=True)\n",
    "\n",
    "loss_plot(history.loc[:, \"train_loss\"], history.loc[:, \"valid_loss\"])\n",
    "plt.savefig(fig_dir + \"/nn_2c_loss.png\", dpi=300, bbox_inches='tight', pad_inches=0)"
   ],
   "metadata": {
    "collapsed": false,
    "pycharm": {
     "name": "#%%\n"
    }
   }
  },
  {
   "cell_type": "code",
   "execution_count": null,
   "outputs": [],
   "source": [
    "Y_pred = pipe.predict(X_test.iloc[:, col_indices])"
   ],
   "metadata": {
    "collapsed": false,
    "pycharm": {
     "name": "#%%\n"
    }
   }
  },
  {
   "cell_type": "code",
   "execution_count": null,
   "outputs": [],
   "source": [
    "np.save(\"data/predictions/nn/2c_best/Y_pred_2\", Y_pred, allow_pickle=False)"
   ],
   "metadata": {
    "collapsed": false,
    "pycharm": {
     "name": "#%%\n"
    }
   }
  },
  {
   "cell_type": "code",
   "execution_count": null,
   "outputs": [],
   "source": [
    "errors = []"
   ],
   "metadata": {
    "collapsed": false,
    "pycharm": {
     "name": "#%%\n"
    }
   }
  },
  {
   "cell_type": "code",
   "execution_count": null,
   "outputs": [],
   "source": [
    "Y_test = np.load(\"data/predictions/nn/2c_best/Y_test_2.npy\", allow_pickle=False)\n",
    "Y_pred = np.load(\"data/predictions/nn/2c_best/Y_pred_2.npy\", allow_pickle=False)\n",
    "\n",
    "errs = mean_relative_errors(Y_test, Y_pred)\n",
    "errs.append(np.mean(mean_relative_errors(Y_test, Y_pred)))\n",
    "errs.append(mean_absolute_errors(Y_test, Y_pred)[4])\n",
    "errors.append(errs)"
   ],
   "metadata": {
    "collapsed": false,
    "pycharm": {
     "name": "#%%\n"
    }
   }
  },
  {
   "cell_type": "code",
   "execution_count": null,
   "outputs": [],
   "source": [
    "mod_errors = []\n",
    "for i, row in enumerate(errors):\n",
    "    new_row = []\n",
    "    for j, error in enumerate(row):\n",
    "        if j < 5:\n",
    "            new_row.append(f\"{error*100:.2f}\\%\")\n",
    "        else:\n",
    "            new_row.append(f\"{error:.3f}\")\n",
    "    mod_errors.append(new_row)\n",
    "mod_errors"
   ],
   "metadata": {
    "collapsed": false,
    "pycharm": {
     "name": "#%%\n"
    }
   }
  },
  {
   "cell_type": "code",
   "execution_count": null,
   "outputs": [],
   "source": [
    "df_errors = pd.DataFrame(mod_errors, dtype=str)\n",
    "df_errors.index = [\"Full Dataset\", \"Reduced Target Range\"]\n",
    "\n",
    "df_errors.to_latex(\n",
    "    buf=tab_dir + \"/2c_best_errors_2.tex\",\n",
    "    header=[\n",
    "        r\"MRE ($M_w^s$)\",\n",
    "        \"MRE ($PDI^s$)\",\n",
    "        \"MRE ($M_w^l$)\",\n",
    "        \"MRE ($PDI^l$)\",\n",
    "        \"Avg. MRE\",\n",
    "        \"MAE ($\\phi^l$)\",\n",
    "    ],\n",
    "    column_format=\"lrrrrrr\",\n",
    "    index=True,\n",
    "    escape=False,\n",
    "    bold_rows=True,\n",
    "    caption=r\"Mean relative error (MRE) and the averaged MRE of the $M_w^s$, $PDI^s$, $M_w^l$ and $PDI^l$ target attributes, as well as the mean absolute error (MAE) of the best performing bimodal models with and without restricting the target ranges by $M_w \\geq$ 1,287,000 and $PDI \\geq$ 2 (360,000 training and 40,000 testing instances for the full dataset, 40,000 training and 5,000 testing instances for the reduced target range, using only the first 50 features each for $G'$ and $G''$, $\\phi^l \\in$ [0.1, 0.9], $\\frac{M_w^l}{M_w^s}>PDI_{max}^{1}$ bimodal dataset)\",\n",
    "    label=\"tab:2c_best_errors\",\n",
    "    position=\"htb\",\n",
    ")"
   ],
   "metadata": {
    "collapsed": false,
    "pycharm": {
     "name": "#%%\n"
    }
   }
  },
  {
   "cell_type": "code",
   "execution_count": null,
   "outputs": [],
   "source": [
    "Y_test = np.load(\"data/predictions/nn/2c_best/Y_test.npy\", allow_pickle=False)\n",
    "Y_pred = np.load(\"data/predictions/nn/2c_best/Y_pred.npy\", allow_pickle=False)"
   ],
   "metadata": {
    "collapsed": false,
    "pycharm": {
     "name": "#%%\n"
    }
   }
  },
  {
   "cell_type": "code",
   "execution_count": null,
   "outputs": [],
   "source": [
    "errs = mean_relative_errors(Y_test.values, Y_pred)\n",
    "errs.append(np.mean(mean_relative_errors(Y_test.values, Y_pred)))\n",
    "errs.append(mean_absolute_errors(Y_test.values, Y_pred)[4])\n",
    "\n",
    "errors = []\n",
    "for i, error in enumerate(errs):\n",
    "    if i < 5:\n",
    "        errors.append(f\"{error*100:.2f}\\%\")\n",
    "    else:\n",
    "        errors.append(f\"{error:.3f}\")\n",
    "errors"
   ],
   "metadata": {
    "collapsed": false,
    "pycharm": {
     "name": "#%%\n"
    }
   }
  },
  {
   "cell_type": "code",
   "execution_count": null,
   "outputs": [],
   "source": [
    "labels = [\n",
    "    \"$M_w^s$ [$g/mol$]\",\n",
    "    \"$PDI^s$\",\n",
    "    \"$M_w^l$ [$g/mol$]\",\n",
    "    \"$PDI^l$\",\n",
    "    \"$\\phi^l$\",\n",
    "]\n",
    "fig, ax = plt.subplots()\n",
    "fig.set_figheight(10.6)\n",
    "fig.set_figwidth(8)\n",
    "\n",
    "abs_error_plot(Y_test.values, Y_pred, labels)\n",
    "plt.subplots_adjust(wspace=0.15, hspace=0.42)\n",
    "\n",
    "plt.savefig(\n",
    "    fig_dir + \"/nn_2c_2_abs_errors.png\",\n",
    "    dpi=300,\n",
    "    bbox_inches=\"tight\",\n",
    "    pad_inches=0,\n",
    ")"
   ],
   "metadata": {
    "collapsed": false,
    "pycharm": {
     "name": "#%%\n"
    }
   }
  },
  {
   "cell_type": "code",
   "execution_count": null,
   "outputs": [],
   "source": [
    "labels = [\"$M_w^s$ [$g/mol$]\", \"$PDI^s$\", \"$M_w^l$ [$g/mol$]\", \"$PDI^l$\"]\n",
    "\n",
    "fig, ax = plt.subplots()\n",
    "fig.set_figheight(9.8)\n",
    "fig.set_figwidth(8)\n",
    "\n",
    "rel_error_plot(Y_test.values, Y_pred, labels)\n",
    "plt.subplots_adjust(wspace=0.35, hspace=0.46)\n",
    "\n",
    "plt.savefig(\n",
    "    fig_dir + \"/nn_2c_2_rel_errors.png\",\n",
    "    dpi=300,\n",
    "    bbox_inches=\"tight\",\n",
    "    pad_inches=0,\n",
    ")"
   ],
   "metadata": {
    "collapsed": false,
    "pycharm": {
     "name": "#%%\n"
    }
   }
  },
  {
   "cell_type": "code",
   "execution_count": null,
   "outputs": [],
   "source": [
    "np.mean(mean_relative_errors(Y_test.values, Y_pred))"
   ],
   "metadata": {
    "collapsed": false,
    "pycharm": {
     "name": "#%%\n"
    }
   }
  }
 ],
 "metadata": {
  "kernelspec": {
   "display_name": "Python 3",
   "language": "python",
   "name": "python3"
  },
  "language_info": {
   "codemirror_mode": {
    "name": "ipython",
    "version": 3
   },
   "file_extension": ".py",
   "mimetype": "text/x-python",
   "name": "python",
   "nbconvert_exporter": "python",
   "pygments_lexer": "ipython3",
   "version": "3.8.5"
  }
 },
 "nbformat": 4,
 "nbformat_minor": 1
}