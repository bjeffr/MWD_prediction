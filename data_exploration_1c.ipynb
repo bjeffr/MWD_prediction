{
 "cells": [
  {
   "cell_type": "code",
   "execution_count": null,
   "metadata": {
    "collapsed": true
   },
   "outputs": [],
   "source": [
    "import pandas as pd\n",
    "import matplotlib as mpl\n",
    "import matplotlib.pyplot as plt\n",
    "from utils.params import fig_dir, tab_dir, blue_main_color\n",
    "from utils.tables import summary_stats_1c\n",
    "from utils.charts import (\n",
    "    dual_hist_box_plot,\n",
    "    feature_attrs_iqr_plot,\n",
    "    dual_log_boxplot,\n",
    "    corr_plot,\n",
    ")\n",
    "%config InlineBackend.figure_format ='retina'\n",
    "mpl.style.use(\"ggplot\")"
   ]
  },
  {
   "cell_type": "code",
   "execution_count": null,
   "outputs": [],
   "source": [
    "df = pd.read_csv(\"data/flow_data_1c.csv\")\n",
    "df.shape"
   ],
   "metadata": {
    "collapsed": false,
    "pycharm": {
     "name": "#%%\n"
    }
   }
  },
  {
   "cell_type": "code",
   "execution_count": null,
   "outputs": [],
   "source": [
    "targets = df.iloc[:, :2]\n",
    "storage_modulus = df.iloc[:, 2:42]\n",
    "loss_modulus = df.iloc[:, 72:112]\n",
    "features = pd.DataFrame(\n",
    "    {\n",
    "        \"G'\": storage_modulus.values.flatten(),\n",
    "        \"G''\": loss_modulus.values.flatten(),\n",
    "    }\n",
    ")\n",
    "\n",
    "summary_stats_1c(targets, features).to_latex(\n",
    "    buf=tab_dir + \"/describe_1c_diff.tex\",\n",
    "    header=[r\"$M_w$ [$\\nicefrac{g}{mol}$]\", \"$PDI$\", \"$G'$ [Pa]\", \"$G''$ [Pa]\"],\n",
    "    column_format=\"lrrrr\",\n",
    "    index=True,\n",
    "    escape=False,\n",
    "    bold_rows=True,\n",
    "    caption=\"Summary statistics for the $M_w$ and $PDI$ target attributes, as well as the $G'$ and $G''$ features (unimodal dataset)\",\n",
    "    label=\"tab:describe_1c\",\n",
    "    position=\"htb\",\n",
    ")"
   ],
   "metadata": {
    "collapsed": false,
    "pycharm": {
     "name": "#%%\n"
    }
   }
  },
  {
   "cell_type": "code",
   "execution_count": null,
   "outputs": [],
   "source": [
    "feature_attrs_iqr_plot(storage_modulus, loss_modulus)\n",
    "plt.savefig(\n",
    "    fig_dir + \"/feature_attrs_iqr_1c.png\",\n",
    "    dpi=300,\n",
    "    bbox_inches=\"tight\",\n",
    "    pad_inches=0,\n",
    ")"
   ],
   "metadata": {
    "collapsed": false,
    "pycharm": {
     "name": "#%%\n"
    }
   }
  },
  {
   "cell_type": "code",
   "execution_count": null,
   "outputs": [],
   "source": [
    "dual_log_boxplot(\n",
    "    df.iloc[:, 2],\n",
    "    df.iloc[:, 72],\n",
    "    df.iloc[:, 59],\n",
    "    df.iloc[:, 129],\n",
    "    [-12, -10, -8, -6, -4, -2, 0, 2, 4],\n",
    "    [5.1, 5.2, 5.3, 5.4, 5.5, 5.6],\n",
    "    \"Frequency = $10^{-6}$ $s^{-1}$\",\n",
    "    r\"Frequency $\\approx 10^{4}$ $s^{-1}$\",\n",
    ")\n",
    "plt.savefig(\n",
    "    fig_dir + \"/boxplot_freq_1c.png\", dpi=300, bbox_inches=\"tight\", pad_inches=0\n",
    ")"
   ],
   "metadata": {
    "collapsed": false,
    "pycharm": {
     "name": "#%%\n"
    }
   }
  },
  {
   "cell_type": "code",
   "execution_count": null,
   "outputs": [],
   "source": [
    "corr_plot(df.iloc[:, 2:].corr())\n",
    "plt.savefig(\n",
    "    fig_dir + \"/corr_1c.png\", dpi=300, bbox_inches=\"tight\", pad_inches=0\n",
    ")"
   ],
   "metadata": {
    "collapsed": false,
    "pycharm": {
     "name": "#%%\n"
    }
   }
  },
  {
   "cell_type": "code",
   "execution_count": null,
   "outputs": [],
   "source": [
    "dual_hist_box_plot(df[\"M_W\"], df[\"PDI\"], \"$M_w$ [$g/mol$]\", \"$PDI$\")\n",
    "plt.savefig(\n",
    "    fig_dir + \"/box_hist_1c.png\", dpi=300, bbox_inches=\"tight\", pad_inches=0\n",
    ")"
   ],
   "metadata": {
    "collapsed": false,
    "pycharm": {
     "name": "#%%\n"
    }
   }
  },
  {
   "cell_type": "code",
   "execution_count": null,
   "outputs": [],
   "source": [
    "df = df.sample(40000)"
   ],
   "metadata": {
    "collapsed": false,
    "pycharm": {
     "name": "#%%\n"
    }
   }
  },
  {
   "cell_type": "code",
   "execution_count": null,
   "outputs": [],
   "source": [
    "fig, ax = plt.subplots()\n",
    "fig.set_figheight(5)\n",
    "fig.set_figwidth(7.5)\n",
    "plt.scatter(\n",
    "    df[\"M_W\"], df[\"PDI\"], s=1.5, color=blue_main_color, edgecolors=\"none\"\n",
    ")\n",
    "plt.xlabel(\"$M_w$ [$g/mol$]\")\n",
    "plt.ylabel(\"$PDI$\")\n",
    "plt.grid(b=False)\n",
    "ax.set_xmargin(0.01)\n",
    "ax.set_ymargin(0.017)\n",
    "plt.savefig(\n",
    "    fig_dir + \"/datapoints_scatter_1c.png\",\n",
    "    dpi=300,\n",
    "    bbox_inches=\"tight\",\n",
    "    pad_inches=0,\n",
    ")"
   ],
   "metadata": {
    "collapsed": false,
    "pycharm": {
     "name": "#%%\n"
    }
   }
  }
 ],
 "metadata": {
  "kernelspec": {
   "display_name": "Python 3",
   "language": "python",
   "name": "python3"
  },
  "language_info": {
   "codemirror_mode": {
    "name": "ipython",
    "version": 2
   },
   "file_extension": ".py",
   "mimetype": "text/x-python",
   "name": "python",
   "nbconvert_exporter": "python",
   "pygments_lexer": "ipython2",
   "version": "2.7.6"
  }
 },
 "nbformat": 4,
 "nbformat_minor": 0
}