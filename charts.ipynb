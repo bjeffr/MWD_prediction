{
 "cells": [
  {
   "cell_type": "code",
   "execution_count": null,
   "metadata": {
    "collapsed": true
   },
   "outputs": [],
   "source": [
    "import pandas as pd\n",
    "import numpy as np\n",
    "import matplotlib as mpl\n",
    "import seaborn as sns\n",
    "from matplotlib import pyplot as plt\n",
    "from scipy.stats import norm\n",
    "from utils.params import fig_dir\n",
    "%config InlineBackend.figure_format ='retina'\n",
    "mpl.style.use(\"ggplot\")"
   ]
  },
  {
   "cell_type": "code",
   "execution_count": null,
   "outputs": [],
   "source": [
    "df = pd.read_csv(\"data/global-plastics-production.csv\")\n",
    "df[\"plastic_production\"] = (\n",
    "    df[\"Global plastics production (million tonnes)\"] / 1_000_000\n",
    ")\n",
    "\n",
    "fig, ax = plt.subplots()\n",
    "fig.set_figheight(5)\n",
    "fig.set_figwidth(7.5)\n",
    "\n",
    "plt.plot(df[\"Year\"], df[\"plastic_production\"], color=\"#2E3192\")\n",
    "ax.yaxis.set_major_formatter(mpl.ticker.StrMethodFormatter(\"{x:,.0f}M\"))\n",
    "plt.xlabel(\"Year\")\n",
    "plt.ylabel(\"Plastic Production [t]\")\n",
    "\n",
    "plt.savefig(\n",
    "    fig_dir + \"/plastic_production.png\",\n",
    "    dpi=300,\n",
    "    bbox_inches=\"tight\",\n",
    "    pad_inches=0,\n",
    ")"
   ],
   "metadata": {
    "collapsed": false,
    "pycharm": {
     "name": "#%%\n"
    }
   }
  },
  {
   "cell_type": "code",
   "execution_count": null,
   "outputs": [],
   "source": [
    "df = pd.read_csv(\"data/global-plastic-fate.csv\")\n",
    "\n",
    "df_discarded = df[df[\"Entity\"] == \"Discarded\"]\n",
    "df_discarded[\"percentage\"] = (\n",
    "    df_discarded[\"Estimated historic plastic fate\"] / 100\n",
    ")\n",
    "df_discarded = df_discarded[[\"Year\", \"percentage\"]]\n",
    "\n",
    "df_incinerated = df[df[\"Entity\"] == \"Incinerated\"]\n",
    "df_incinerated[\"percentage\"] = (\n",
    "    df_incinerated[\"Estimated historic plastic fate\"] / 100\n",
    ")\n",
    "df_incinerated = df_incinerated[[\"Year\", \"percentage\"]]\n",
    "\n",
    "df_recycled = df[df[\"Entity\"] == \"Recycled\"]\n",
    "df_recycled[\"percentage\"] = df_recycled[\"Estimated historic plastic fate\"] / 100\n",
    "df_recycled = df_recycled[[\"Year\", \"percentage\"]]"
   ],
   "metadata": {
    "collapsed": false,
    "pycharm": {
     "name": "#%%\n"
    }
   }
  },
  {
   "cell_type": "code",
   "execution_count": null,
   "outputs": [],
   "source": [
    "fig, ax = plt.subplots()\n",
    "fig.set_figheight(4.4)\n",
    "fig.set_figwidth(6.7)\n",
    "\n",
    "plt.stackplot(\n",
    "    df_discarded[\"Year\"],\n",
    "    df_discarded[\"percentage\"],\n",
    "    df_incinerated[\"percentage\"],\n",
    "    df_recycled[\"percentage\"],\n",
    "    colors=[plt.cm.tab10(0), plt.cm.tab10(1), plt.cm.tab10(2)],\n",
    "    alpha=0.65,\n",
    ")\n",
    "\n",
    "plt.annotate(\n",
    "    \"Discarded\",\n",
    "    xy=(1.01, 0.25),\n",
    "    xycoords=\"axes fraction\",\n",
    "    color=plt.cm.tab10(0),\n",
    ")\n",
    "plt.annotate(\n",
    "    \"Incinerated\",\n",
    "    xy=(1.01, 0.665),\n",
    "    xycoords=\"axes fraction\",\n",
    "    color=plt.cm.tab10(1),\n",
    ")\n",
    "plt.annotate(\n",
    "    \"Recycled\", xy=(1.01, 0.89), xycoords=\"axes fraction\", color=plt.cm.tab10(2)\n",
    ")\n",
    "\n",
    "ax.yaxis.set_major_formatter(mpl.ticker.PercentFormatter(xmax=1))\n",
    "plt.xlabel(\"Year\")\n",
    "ax.set_facecolor(\"white\")\n",
    "ax.set_xmargin(0)\n",
    "ax.set_ymargin(0)\n",
    "\n",
    "plt.savefig(\n",
    "    fig_dir + \"/plastic_fate.png\", dpi=300, bbox_inches=\"tight\", pad_inches=0\n",
    ")"
   ],
   "metadata": {
    "collapsed": false,
    "pycharm": {
     "name": "#%%\n"
    }
   }
  },
  {
   "cell_type": "code",
   "execution_count": null,
   "outputs": [],
   "source": [
    "def skew_norm_pdf(x, e=0, w=1, a=0):\n",
    "    t = (x - e) / w\n",
    "    return 2.0 * w * norm.pdf(t) * norm.cdf(a * t)\n",
    "\n",
    "\n",
    "fig = plt.figure()\n",
    "fig.set_figheight(4)\n",
    "fig.set_figwidth(6)\n",
    "\n",
    "plt.plot(\n",
    "    skew_norm_pdf(np.linspace(-1, 3, 100), 0, 1, 3), zorder=10, color=\"#2E3192\"\n",
    ")\n",
    "\n",
    "plt.axvline(\n",
    "    x=34, ymin=0.05, ymax=0.94, color=\"black\", linestyle=\"--\", linewidth=1\n",
    ")\n",
    "plt.annotate(\"$M_n$\", xy=(35, 0.25), va=\"center\", size=12)\n",
    "plt.axvline(\n",
    "    x=45, ymin=0.05, ymax=0.83, color=\"black\", linestyle=\"--\", linewidth=1\n",
    ")\n",
    "plt.annotate(\"$M_w$\", xy=(46, 0.25), va=\"center\", size=12)\n",
    "\n",
    "ax = plt.gca()\n",
    "ax.xaxis.set_ticks([])\n",
    "ax.yaxis.set_ticks([])\n",
    "plt.xlabel(\"$log$(Molecular Weight)\", size=11)\n",
    "plt.ylabel(\"Amount / Frequency\", size=11)\n",
    "\n",
    "plt.savefig(\n",
    "    fig_dir + \"/mw_distribution.png\", dpi=300, bbox_inches=\"tight\", pad_inches=0\n",
    ")"
   ],
   "metadata": {
    "collapsed": false,
    "pycharm": {
     "name": "#%%\n"
    }
   }
  },
  {
   "cell_type": "code",
   "execution_count": null,
   "outputs": [],
   "source": [
    "np.random.seed(42)\n",
    "X1 = np.random.normal(1, 0.3, 10000)\n",
    "X2 = np.random.normal(2, 0.38, 10000)\n",
    "X = np.concatenate([X1, X2])\n",
    "\n",
    "fig, ax = plt.subplots()\n",
    "fig.set_figheight(4)\n",
    "fig.set_figwidth(6)\n",
    "\n",
    "sns.kdeplot(X, bw_adjust=2, ax=ax, color=\"#2E3192\")\n",
    "\n",
    "plt.axvline(\n",
    "    x=1.12, ymin=0.05, ymax=0.929, color=\"black\", linestyle=\"--\", linewidth=1\n",
    ")\n",
    "plt.annotate(\"$M_w^s$\", xy=(1.16, 0.25), va=\"center\", size=12)\n",
    "plt.axvline(\n",
    "    x=2.07, ymin=0.05, ymax=0.759, color=\"black\", linestyle=\"--\", linewidth=1\n",
    ")\n",
    "plt.annotate(\"$M_w^l$\", xy=(2.11, 0.25), va=\"center\", size=12)\n",
    "\n",
    "plt.ylim((-0.03, 0.643))\n",
    "plt.xlim((-0.1, 3.2))\n",
    "ax = plt.gca()\n",
    "ax.xaxis.set_ticks([])\n",
    "ax.yaxis.set_ticks([])\n",
    "plt.xlabel(\"$log$(Molecular Weight)\", color=\"#595959\", size=11)\n",
    "plt.ylabel(\"Amount / Frequency\", color=\"#595959\", size=11)\n",
    "ax.set_facecolor(\"#E5E5E5\")\n",
    "\n",
    "plt.savefig(\n",
    "    fig_dir + \"/bimodal_mw_dist.png\", dpi=300, bbox_inches=\"tight\", pad_inches=0\n",
    ")"
   ],
   "metadata": {
    "collapsed": false,
    "pycharm": {
     "name": "#%%\n"
    }
   }
  },
  {
   "cell_type": "code",
   "execution_count": null,
   "outputs": [],
   "source": [
    "data = []\n",
    "with open(\"data/RunPSPDI/gtp_Z200_PDI5.0.dat\") as f:\n",
    "    for line in f.readlines():\n",
    "        data.append(line.split())\n",
    "\n",
    "df = pd.DataFrame(data, dtype=float)\n",
    "df.columns = [\"freq\", \"G'\", \"G''\"]\n",
    "\n",
    "fig, ax = plt.subplots()\n",
    "fig.set_figheight(5)\n",
    "fig.set_figwidth(7.5)\n",
    "\n",
    "plt.loglog(\n",
    "    df[\"freq\"],\n",
    "    df[\"G'\"],\n",
    "    base=10,\n",
    "    zorder=10,\n",
    "    color=plt.cm.tab10(0),\n",
    "    label=\"Storage modulus ($G'$)\",\n",
    ")\n",
    "plt.loglog(\n",
    "    df[\"freq\"],\n",
    "    df[\"G''\"],\n",
    "    base=10,\n",
    "    zorder=10,\n",
    "    color=plt.cm.tab10(1),\n",
    "    label=\"Loss modulus ($G''$)\",\n",
    ")\n",
    "\n",
    "plt.minorticks_off()\n",
    "plt.xlabel(\"Frequency [$s^{-1}$]\")\n",
    "plt.ylabel(\"$G'$, $G''$ [Pa]\")\n",
    "plt.legend(loc=\"lower right\", framealpha=1, edgecolor=\"None\")\n",
    "\n",
    "plt.savefig(fig_dir + \"/moduli.png\", dpi=300, bbox_inches=\"tight\", pad_inches=0)"
   ],
   "metadata": {
    "collapsed": false,
    "pycharm": {
     "name": "#%%\n"
    }
   }
  }
 ],
 "metadata": {
  "kernelspec": {
   "display_name": "Python 3",
   "language": "python",
   "name": "python3"
  },
  "language_info": {
   "codemirror_mode": {
    "name": "ipython",
    "version": 2
   },
   "file_extension": ".py",
   "mimetype": "text/x-python",
   "name": "python",
   "nbconvert_exporter": "python",
   "pygments_lexer": "ipython2",
   "version": "2.7.6"
  }
 },
 "nbformat": 4,
 "nbformat_minor": 0
}